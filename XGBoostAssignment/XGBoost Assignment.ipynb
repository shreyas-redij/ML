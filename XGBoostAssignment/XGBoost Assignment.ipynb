{
 "cells": [
  {
   "cell_type": "markdown",
   "metadata": {},
   "source": [
    "###  In this assignment students need to predict whether a person makes over 50K per year or not from classic adult dataset using XGBoost. The description of the dataset is as follows:"
   ]
  },
  {
   "cell_type": "code",
   "execution_count": 1,
   "metadata": {},
   "outputs": [],
   "source": [
    "import pandas as pd\n",
    "import numpy as np\n",
    "import xgboost as xgb\n",
    "import pickle\n",
    "from sklearn import datasets\n",
    "from xgboost import XGBClassifier\n",
    "from sklearn.metrics import accuracy_score"
   ]
  },
  {
   "cell_type": "code",
   "execution_count": 2,
   "metadata": {},
   "outputs": [],
   "source": [
    "# reading the features and the labels\n",
    "data = pd.read_csv('http://archive.ics.uci.edu/ml/machine-learning-databases/adult/adult.test' , skiprows = 1, header = None)\n",
    "\n"
   ]
  },
  {
   "cell_type": "code",
   "execution_count": 3,
   "metadata": {},
   "outputs": [
    {
     "data": {
      "text/html": [
       "<div>\n",
       "<style scoped>\n",
       "    .dataframe tbody tr th:only-of-type {\n",
       "        vertical-align: middle;\n",
       "    }\n",
       "\n",
       "    .dataframe tbody tr th {\n",
       "        vertical-align: top;\n",
       "    }\n",
       "\n",
       "    .dataframe thead th {\n",
       "        text-align: right;\n",
       "    }\n",
       "</style>\n",
       "<table border=\"1\" class=\"dataframe\">\n",
       "  <thead>\n",
       "    <tr style=\"text-align: right;\">\n",
       "      <th></th>\n",
       "      <th>0</th>\n",
       "      <th>1</th>\n",
       "      <th>2</th>\n",
       "      <th>3</th>\n",
       "      <th>4</th>\n",
       "      <th>5</th>\n",
       "      <th>6</th>\n",
       "      <th>7</th>\n",
       "      <th>8</th>\n",
       "      <th>9</th>\n",
       "      <th>10</th>\n",
       "      <th>11</th>\n",
       "      <th>12</th>\n",
       "      <th>13</th>\n",
       "      <th>14</th>\n",
       "    </tr>\n",
       "  </thead>\n",
       "  <tbody>\n",
       "    <tr>\n",
       "      <td>0</td>\n",
       "      <td>25</td>\n",
       "      <td>Private</td>\n",
       "      <td>226802</td>\n",
       "      <td>11th</td>\n",
       "      <td>7</td>\n",
       "      <td>Never-married</td>\n",
       "      <td>Machine-op-inspct</td>\n",
       "      <td>Own-child</td>\n",
       "      <td>Black</td>\n",
       "      <td>Male</td>\n",
       "      <td>0</td>\n",
       "      <td>0</td>\n",
       "      <td>40</td>\n",
       "      <td>United-States</td>\n",
       "      <td>&lt;=50K.</td>\n",
       "    </tr>\n",
       "    <tr>\n",
       "      <td>1</td>\n",
       "      <td>38</td>\n",
       "      <td>Private</td>\n",
       "      <td>89814</td>\n",
       "      <td>HS-grad</td>\n",
       "      <td>9</td>\n",
       "      <td>Married-civ-spouse</td>\n",
       "      <td>Farming-fishing</td>\n",
       "      <td>Husband</td>\n",
       "      <td>White</td>\n",
       "      <td>Male</td>\n",
       "      <td>0</td>\n",
       "      <td>0</td>\n",
       "      <td>50</td>\n",
       "      <td>United-States</td>\n",
       "      <td>&lt;=50K.</td>\n",
       "    </tr>\n",
       "    <tr>\n",
       "      <td>2</td>\n",
       "      <td>28</td>\n",
       "      <td>Local-gov</td>\n",
       "      <td>336951</td>\n",
       "      <td>Assoc-acdm</td>\n",
       "      <td>12</td>\n",
       "      <td>Married-civ-spouse</td>\n",
       "      <td>Protective-serv</td>\n",
       "      <td>Husband</td>\n",
       "      <td>White</td>\n",
       "      <td>Male</td>\n",
       "      <td>0</td>\n",
       "      <td>0</td>\n",
       "      <td>40</td>\n",
       "      <td>United-States</td>\n",
       "      <td>&gt;50K.</td>\n",
       "    </tr>\n",
       "    <tr>\n",
       "      <td>3</td>\n",
       "      <td>44</td>\n",
       "      <td>Private</td>\n",
       "      <td>160323</td>\n",
       "      <td>Some-college</td>\n",
       "      <td>10</td>\n",
       "      <td>Married-civ-spouse</td>\n",
       "      <td>Machine-op-inspct</td>\n",
       "      <td>Husband</td>\n",
       "      <td>Black</td>\n",
       "      <td>Male</td>\n",
       "      <td>7688</td>\n",
       "      <td>0</td>\n",
       "      <td>40</td>\n",
       "      <td>United-States</td>\n",
       "      <td>&gt;50K.</td>\n",
       "    </tr>\n",
       "    <tr>\n",
       "      <td>4</td>\n",
       "      <td>18</td>\n",
       "      <td>?</td>\n",
       "      <td>103497</td>\n",
       "      <td>Some-college</td>\n",
       "      <td>10</td>\n",
       "      <td>Never-married</td>\n",
       "      <td>?</td>\n",
       "      <td>Own-child</td>\n",
       "      <td>White</td>\n",
       "      <td>Female</td>\n",
       "      <td>0</td>\n",
       "      <td>0</td>\n",
       "      <td>30</td>\n",
       "      <td>United-States</td>\n",
       "      <td>&lt;=50K.</td>\n",
       "    </tr>\n",
       "  </tbody>\n",
       "</table>\n",
       "</div>"
      ],
      "text/plain": [
       "   0           1       2              3   4                    5   \\\n",
       "0  25     Private  226802           11th   7        Never-married   \n",
       "1  38     Private   89814        HS-grad   9   Married-civ-spouse   \n",
       "2  28   Local-gov  336951     Assoc-acdm  12   Married-civ-spouse   \n",
       "3  44     Private  160323   Some-college  10   Married-civ-spouse   \n",
       "4  18           ?  103497   Some-college  10        Never-married   \n",
       "\n",
       "                   6           7       8        9     10  11  12  \\\n",
       "0   Machine-op-inspct   Own-child   Black     Male     0   0  40   \n",
       "1     Farming-fishing     Husband   White     Male     0   0  50   \n",
       "2     Protective-serv     Husband   White     Male     0   0  40   \n",
       "3   Machine-op-inspct     Husband   Black     Male  7688   0  40   \n",
       "4                   ?   Own-child   White   Female     0   0  30   \n",
       "\n",
       "               13       14  \n",
       "0   United-States   <=50K.  \n",
       "1   United-States   <=50K.  \n",
       "2   United-States    >50K.  \n",
       "3   United-States    >50K.  \n",
       "4   United-States   <=50K.  "
      ]
     },
     "execution_count": 3,
     "metadata": {},
     "output_type": "execute_result"
    }
   ],
   "source": [
    "data.head()"
   ]
  },
  {
   "cell_type": "code",
   "execution_count": 4,
   "metadata": {},
   "outputs": [],
   "source": [
    "col_labels = ['age', 'workclass', 'fnlwgt', 'education', 'education_num',\n",
    "'marital_status', 'occupation','relationship', 'race', 'sex', 'capital_gain',\n",
    "'capital_loss', 'hours_per_week', 'native_country', 'wage_class']"
   ]
  },
  {
   "cell_type": "code",
   "execution_count": 5,
   "metadata": {},
   "outputs": [
    {
     "data": {
      "text/plain": [
       "15"
      ]
     },
     "execution_count": 5,
     "metadata": {},
     "output_type": "execute_result"
    }
   ],
   "source": [
    "len(col_labels)"
   ]
  },
  {
   "cell_type": "code",
   "execution_count": 6,
   "metadata": {},
   "outputs": [
    {
     "data": {
      "text/html": [
       "<div>\n",
       "<style scoped>\n",
       "    .dataframe tbody tr th:only-of-type {\n",
       "        vertical-align: middle;\n",
       "    }\n",
       "\n",
       "    .dataframe tbody tr th {\n",
       "        vertical-align: top;\n",
       "    }\n",
       "\n",
       "    .dataframe thead th {\n",
       "        text-align: right;\n",
       "    }\n",
       "</style>\n",
       "<table border=\"1\" class=\"dataframe\">\n",
       "  <thead>\n",
       "    <tr style=\"text-align: right;\">\n",
       "      <th></th>\n",
       "      <th>age</th>\n",
       "      <th>workclass</th>\n",
       "      <th>fnlwgt</th>\n",
       "      <th>education</th>\n",
       "      <th>education_num</th>\n",
       "      <th>marital_status</th>\n",
       "      <th>occupation</th>\n",
       "      <th>relationship</th>\n",
       "      <th>race</th>\n",
       "      <th>sex</th>\n",
       "      <th>capital_gain</th>\n",
       "      <th>capital_loss</th>\n",
       "      <th>hours_per_week</th>\n",
       "      <th>native_country</th>\n",
       "      <th>wage_class</th>\n",
       "    </tr>\n",
       "  </thead>\n",
       "  <tbody>\n",
       "    <tr>\n",
       "      <td>0</td>\n",
       "      <td>25</td>\n",
       "      <td>Private</td>\n",
       "      <td>226802</td>\n",
       "      <td>11th</td>\n",
       "      <td>7</td>\n",
       "      <td>Never-married</td>\n",
       "      <td>Machine-op-inspct</td>\n",
       "      <td>Own-child</td>\n",
       "      <td>Black</td>\n",
       "      <td>Male</td>\n",
       "      <td>0</td>\n",
       "      <td>0</td>\n",
       "      <td>40</td>\n",
       "      <td>United-States</td>\n",
       "      <td>&lt;=50K.</td>\n",
       "    </tr>\n",
       "    <tr>\n",
       "      <td>1</td>\n",
       "      <td>38</td>\n",
       "      <td>Private</td>\n",
       "      <td>89814</td>\n",
       "      <td>HS-grad</td>\n",
       "      <td>9</td>\n",
       "      <td>Married-civ-spouse</td>\n",
       "      <td>Farming-fishing</td>\n",
       "      <td>Husband</td>\n",
       "      <td>White</td>\n",
       "      <td>Male</td>\n",
       "      <td>0</td>\n",
       "      <td>0</td>\n",
       "      <td>50</td>\n",
       "      <td>United-States</td>\n",
       "      <td>&lt;=50K.</td>\n",
       "    </tr>\n",
       "    <tr>\n",
       "      <td>2</td>\n",
       "      <td>28</td>\n",
       "      <td>Local-gov</td>\n",
       "      <td>336951</td>\n",
       "      <td>Assoc-acdm</td>\n",
       "      <td>12</td>\n",
       "      <td>Married-civ-spouse</td>\n",
       "      <td>Protective-serv</td>\n",
       "      <td>Husband</td>\n",
       "      <td>White</td>\n",
       "      <td>Male</td>\n",
       "      <td>0</td>\n",
       "      <td>0</td>\n",
       "      <td>40</td>\n",
       "      <td>United-States</td>\n",
       "      <td>&gt;50K.</td>\n",
       "    </tr>\n",
       "    <tr>\n",
       "      <td>3</td>\n",
       "      <td>44</td>\n",
       "      <td>Private</td>\n",
       "      <td>160323</td>\n",
       "      <td>Some-college</td>\n",
       "      <td>10</td>\n",
       "      <td>Married-civ-spouse</td>\n",
       "      <td>Machine-op-inspct</td>\n",
       "      <td>Husband</td>\n",
       "      <td>Black</td>\n",
       "      <td>Male</td>\n",
       "      <td>7688</td>\n",
       "      <td>0</td>\n",
       "      <td>40</td>\n",
       "      <td>United-States</td>\n",
       "      <td>&gt;50K.</td>\n",
       "    </tr>\n",
       "    <tr>\n",
       "      <td>4</td>\n",
       "      <td>18</td>\n",
       "      <td>?</td>\n",
       "      <td>103497</td>\n",
       "      <td>Some-college</td>\n",
       "      <td>10</td>\n",
       "      <td>Never-married</td>\n",
       "      <td>?</td>\n",
       "      <td>Own-child</td>\n",
       "      <td>White</td>\n",
       "      <td>Female</td>\n",
       "      <td>0</td>\n",
       "      <td>0</td>\n",
       "      <td>30</td>\n",
       "      <td>United-States</td>\n",
       "      <td>&lt;=50K.</td>\n",
       "    </tr>\n",
       "  </tbody>\n",
       "</table>\n",
       "</div>"
      ],
      "text/plain": [
       "   age   workclass  fnlwgt      education  education_num       marital_status  \\\n",
       "0   25     Private  226802           11th              7        Never-married   \n",
       "1   38     Private   89814        HS-grad              9   Married-civ-spouse   \n",
       "2   28   Local-gov  336951     Assoc-acdm             12   Married-civ-spouse   \n",
       "3   44     Private  160323   Some-college             10   Married-civ-spouse   \n",
       "4   18           ?  103497   Some-college             10        Never-married   \n",
       "\n",
       "           occupation relationship    race      sex  capital_gain  \\\n",
       "0   Machine-op-inspct    Own-child   Black     Male             0   \n",
       "1     Farming-fishing      Husband   White     Male             0   \n",
       "2     Protective-serv      Husband   White     Male             0   \n",
       "3   Machine-op-inspct      Husband   Black     Male          7688   \n",
       "4                   ?    Own-child   White   Female             0   \n",
       "\n",
       "   capital_loss  hours_per_week  native_country wage_class  \n",
       "0             0              40   United-States     <=50K.  \n",
       "1             0              50   United-States     <=50K.  \n",
       "2             0              40   United-States      >50K.  \n",
       "3             0              40   United-States      >50K.  \n",
       "4             0              30   United-States     <=50K.  "
      ]
     },
     "execution_count": 6,
     "metadata": {},
     "output_type": "execute_result"
    }
   ],
   "source": [
    "#Adding the feature names to the dataframe\n",
    "data.columns = col_labels\n",
    "data.head()"
   ]
  },
  {
   "cell_type": "markdown",
   "metadata": {},
   "source": [
    "### Attribute Information:\n",
    "\n",
    "<h4>Listing of attributes: >50K, <=50K.\n",
    "\n",
    "age: continuous.\n",
    "workclass: Private, Self-emp-not-inc, Self-emp-inc, Federal-gov,\n",
    "Local-gov, State-gov, Without-pay, Never-worked.\n",
    "fnlwgt: continuous.\n",
    "education: Bachelors, Some-college, 11th, HS-grad, Prof-school,\n",
    "Assoc-acdm, Assoc-voc, 9th, 7th-8th, 12th, Masters, 1st-4th, 10th,\n",
    "Doctorate, 5th-6th, Preschool.\n",
    "education-num: continuous.\n",
    "\n",
    "marital-status: Married-civ-spouse, Divorced, Never-married,\n",
    "Separated, Widowed, Married-spouse-absent, Married-AF-spouse.\n",
    "\n",
    "occupation: Tech-support, Craft-repair, Other-service, Sales, Exec-\n",
    "managerial, Prof-specialty, Handlers-cleaners, Machine-op-inspct,\n",
    "\n",
    "Adm-clerical, Farming-fishing, Transport-moving, Priv-house-serv,\n",
    "Protective-serv, Armed-Forces.\n",
    "relationship: Wife, Own-child, Husband, Not-in-family, Other-relative,\n",
    "Unmarried.\n",
    "race: White, Asian-Pac-Islander, Amer-Indian-Eskimo, Other, Black.\n",
    "sex: Female, Male.\n",
    "capital-gain: continuous.\n",
    "capital-loss: continuous.\n",
    "hours-per-week: continuous.\n",
    "native-country: United-States, Cambodia, England, Puerto-Rico,\n",
    "Canada, Germany, Outlying-US(Guam-USVI-etc), India, Japan,\n",
    "Greece, South, China, Cuba, Iran, Honduras, Philippines, Italy,\n",
    "Poland, Jamaica, Vietnam, Mexico, Portugal, Ireland, France,\n",
    "Dominican-Republic, Laos, Ecuador, Taiwan, Haiti, Columbia,\n",
    "\n",
    "Hungary, Guatemala, Nicaragua, Scotland, Thailand, Yugoslavia, El-\n",
    "Salvador, Trinadad&Tobago, Peru, Hong, Holand-Netherlands.</h4>"
   ]
  },
  {
   "cell_type": "code",
   "execution_count": 7,
   "metadata": {},
   "outputs": [
    {
     "data": {
      "text/plain": [
       "array([' <=50K.', ' >50K.'], dtype=object)"
      ]
     },
     "execution_count": 7,
     "metadata": {},
     "output_type": "execute_result"
    }
   ],
   "source": [
    "data.wage_class.unique()"
   ]
  },
  {
   "cell_type": "code",
   "execution_count": 8,
   "metadata": {},
   "outputs": [],
   "source": [
    "# Making the salray column to 0 or 1"
   ]
  },
  {
   "cell_type": "code",
   "execution_count": 9,
   "metadata": {},
   "outputs": [],
   "source": [
    "sal={' <=50K.':0, ' >50K.':1}\n",
    "data.wage_class=[sal[item] for item in data.wage_class]"
   ]
  },
  {
   "cell_type": "code",
   "execution_count": 10,
   "metadata": {},
   "outputs": [
    {
     "data": {
      "text/html": [
       "<div>\n",
       "<style scoped>\n",
       "    .dataframe tbody tr th:only-of-type {\n",
       "        vertical-align: middle;\n",
       "    }\n",
       "\n",
       "    .dataframe tbody tr th {\n",
       "        vertical-align: top;\n",
       "    }\n",
       "\n",
       "    .dataframe thead th {\n",
       "        text-align: right;\n",
       "    }\n",
       "</style>\n",
       "<table border=\"1\" class=\"dataframe\">\n",
       "  <thead>\n",
       "    <tr style=\"text-align: right;\">\n",
       "      <th></th>\n",
       "      <th>age</th>\n",
       "      <th>workclass</th>\n",
       "      <th>fnlwgt</th>\n",
       "      <th>education</th>\n",
       "      <th>education_num</th>\n",
       "      <th>marital_status</th>\n",
       "      <th>occupation</th>\n",
       "      <th>relationship</th>\n",
       "      <th>race</th>\n",
       "      <th>sex</th>\n",
       "      <th>capital_gain</th>\n",
       "      <th>capital_loss</th>\n",
       "      <th>hours_per_week</th>\n",
       "      <th>native_country</th>\n",
       "      <th>wage_class</th>\n",
       "    </tr>\n",
       "  </thead>\n",
       "  <tbody>\n",
       "    <tr>\n",
       "      <td>0</td>\n",
       "      <td>25</td>\n",
       "      <td>Private</td>\n",
       "      <td>226802</td>\n",
       "      <td>11th</td>\n",
       "      <td>7</td>\n",
       "      <td>Never-married</td>\n",
       "      <td>Machine-op-inspct</td>\n",
       "      <td>Own-child</td>\n",
       "      <td>Black</td>\n",
       "      <td>Male</td>\n",
       "      <td>0</td>\n",
       "      <td>0</td>\n",
       "      <td>40</td>\n",
       "      <td>United-States</td>\n",
       "      <td>0</td>\n",
       "    </tr>\n",
       "    <tr>\n",
       "      <td>1</td>\n",
       "      <td>38</td>\n",
       "      <td>Private</td>\n",
       "      <td>89814</td>\n",
       "      <td>HS-grad</td>\n",
       "      <td>9</td>\n",
       "      <td>Married-civ-spouse</td>\n",
       "      <td>Farming-fishing</td>\n",
       "      <td>Husband</td>\n",
       "      <td>White</td>\n",
       "      <td>Male</td>\n",
       "      <td>0</td>\n",
       "      <td>0</td>\n",
       "      <td>50</td>\n",
       "      <td>United-States</td>\n",
       "      <td>0</td>\n",
       "    </tr>\n",
       "    <tr>\n",
       "      <td>2</td>\n",
       "      <td>28</td>\n",
       "      <td>Local-gov</td>\n",
       "      <td>336951</td>\n",
       "      <td>Assoc-acdm</td>\n",
       "      <td>12</td>\n",
       "      <td>Married-civ-spouse</td>\n",
       "      <td>Protective-serv</td>\n",
       "      <td>Husband</td>\n",
       "      <td>White</td>\n",
       "      <td>Male</td>\n",
       "      <td>0</td>\n",
       "      <td>0</td>\n",
       "      <td>40</td>\n",
       "      <td>United-States</td>\n",
       "      <td>1</td>\n",
       "    </tr>\n",
       "    <tr>\n",
       "      <td>3</td>\n",
       "      <td>44</td>\n",
       "      <td>Private</td>\n",
       "      <td>160323</td>\n",
       "      <td>Some-college</td>\n",
       "      <td>10</td>\n",
       "      <td>Married-civ-spouse</td>\n",
       "      <td>Machine-op-inspct</td>\n",
       "      <td>Husband</td>\n",
       "      <td>Black</td>\n",
       "      <td>Male</td>\n",
       "      <td>7688</td>\n",
       "      <td>0</td>\n",
       "      <td>40</td>\n",
       "      <td>United-States</td>\n",
       "      <td>1</td>\n",
       "    </tr>\n",
       "    <tr>\n",
       "      <td>4</td>\n",
       "      <td>18</td>\n",
       "      <td>?</td>\n",
       "      <td>103497</td>\n",
       "      <td>Some-college</td>\n",
       "      <td>10</td>\n",
       "      <td>Never-married</td>\n",
       "      <td>?</td>\n",
       "      <td>Own-child</td>\n",
       "      <td>White</td>\n",
       "      <td>Female</td>\n",
       "      <td>0</td>\n",
       "      <td>0</td>\n",
       "      <td>30</td>\n",
       "      <td>United-States</td>\n",
       "      <td>0</td>\n",
       "    </tr>\n",
       "  </tbody>\n",
       "</table>\n",
       "</div>"
      ],
      "text/plain": [
       "   age   workclass  fnlwgt      education  education_num       marital_status  \\\n",
       "0   25     Private  226802           11th              7        Never-married   \n",
       "1   38     Private   89814        HS-grad              9   Married-civ-spouse   \n",
       "2   28   Local-gov  336951     Assoc-acdm             12   Married-civ-spouse   \n",
       "3   44     Private  160323   Some-college             10   Married-civ-spouse   \n",
       "4   18           ?  103497   Some-college             10        Never-married   \n",
       "\n",
       "           occupation relationship    race      sex  capital_gain  \\\n",
       "0   Machine-op-inspct    Own-child   Black     Male             0   \n",
       "1     Farming-fishing      Husband   White     Male             0   \n",
       "2     Protective-serv      Husband   White     Male             0   \n",
       "3   Machine-op-inspct      Husband   Black     Male          7688   \n",
       "4                   ?    Own-child   White   Female             0   \n",
       "\n",
       "   capital_loss  hours_per_week  native_country  wage_class  \n",
       "0             0              40   United-States           0  \n",
       "1             0              50   United-States           0  \n",
       "2             0              40   United-States           1  \n",
       "3             0              40   United-States           1  \n",
       "4             0              30   United-States           0  "
      ]
     },
     "execution_count": 10,
     "metadata": {},
     "output_type": "execute_result"
    }
   ],
   "source": [
    "data.head()"
   ]
  },
  {
   "cell_type": "code",
   "execution_count": 11,
   "metadata": {},
   "outputs": [
    {
     "data": {
      "text/plain": [
       "(16281, 15)"
      ]
     },
     "execution_count": 11,
     "metadata": {},
     "output_type": "execute_result"
    }
   ],
   "source": [
    "data.shape"
   ]
  },
  {
   "cell_type": "markdown",
   "metadata": {},
   "source": [
    "## Some Data Visulization"
   ]
  },
  {
   "cell_type": "code",
   "execution_count": 13,
   "metadata": {},
   "outputs": [
    {
     "data": {
      "text/plain": [
       "<matplotlib.axes._subplots.AxesSubplot at 0x19d2d143388>"
      ]
     },
     "execution_count": 13,
     "metadata": {},
     "output_type": "execute_result"
    },
    {
     "data": {
      "image/png": "[encoded data removed]",
      "text/plain": [
       "<Figure size 432x288 with 1 Axes>"
      ]
     },
     "metadata": {
      "needs_background": "light"
     },
     "output_type": "display_data"
    }
   ],
   "source": [
    "import seaborn as sns\n",
    "#draw a bar plot of survival by Pclass\n",
    "sns.barplot(x=\"sex\", y=\"wage_class\", data=data)"
   ]
  },
  {
   "cell_type": "code",
   "execution_count": 14,
   "metadata": {},
   "outputs": [
    {
     "data": {
      "text/plain": [
       "<matplotlib.axes._subplots.AxesSubplot at 0x19d1818c948>"
      ]
     },
     "execution_count": 14,
     "metadata": {},
     "output_type": "execute_result"
    },
    {
     "data": {
      "image/png": "[encoded data removed]",
      "text/plain": [
       "<Figure size 432x288 with 1 Axes>"
      ]
     },
     "metadata": {
      "needs_background": "light"
     },
     "output_type": "display_data"
    }
   ],
   "source": [
    "import seaborn as sns\n",
    "#draw a bar plot of survival by Pclass\n",
    "sns.barplot(x=\"race\", y=\"wage_class\", data=data)"
   ]
  },
  {
   "cell_type": "code",
   "execution_count": 19,
   "metadata": {},
   "outputs": [
    {
     "data": {
      "text/plain": [
       "<matplotlib.axes._subplots.AxesSubplot at 0x19d2fa50a88>"
      ]
     },
     "execution_count": 19,
     "metadata": {},
     "output_type": "execute_result"
    },
    {
     "data": {
      "image/png": "[encoded data removed]",
      "text/plain": [
       "<Figure size 1800x576 with 1 Axes>"
      ]
     },
     "metadata": {
      "needs_background": "light"
     },
     "output_type": "display_data"
    }
   ],
   "source": [
    "from matplotlib import pyplot as plt\n",
    "import seaborn as sns\n",
    "#draw a bar plot of survival by Pclass\n",
    "plt.figure(figsize=(25,8))\n",
    "sns.barplot(x=\"occupation\", y=\"wage_class\", data=data)"
   ]
  },
  {
   "cell_type": "code",
   "execution_count": 20,
   "metadata": {},
   "outputs": [
    {
     "data": {
      "text/plain": [
       "<matplotlib.axes._subplots.AxesSubplot at 0x19d2fce9688>"
      ]
     },
     "execution_count": 20,
     "metadata": {},
     "output_type": "execute_result"
    },
    {
     "data": {
      "image/png": "[encoded data removed]",
      "text/plain": [
       "<Figure size 1800x576 with 1 Axes>"
      ]
     },
     "metadata": {
      "needs_background": "light"
     },
     "output_type": "display_data"
    }
   ],
   "source": [
    "from matplotlib import pyplot as plt\n",
    "import seaborn as sns\n",
    "#draw a bar plot of survival by Pclass\n",
    "plt.figure(figsize=(25,8))\n",
    "sns.barplot(x=\"native_country\", y=\"wage_class\", data=data)"
   ]
  },
  {
   "cell_type": "code",
   "execution_count": 101,
   "metadata": {},
   "outputs": [
    {
     "data": {
      "text/plain": [
       "array([' Private', ' Local-gov', ' ?', ' Self-emp-not-inc',\n",
       "       ' Federal-gov', ' State-gov', ' Self-emp-inc', ' Without-pay',\n",
       "       ' Never-worked'], dtype=object)"
      ]
     },
     "execution_count": 101,
     "metadata": {},
     "output_type": "execute_result"
    }
   ],
   "source": [
    "# Lets look at the workclass\n",
    "data.workclass.unique()"
   ]
  },
  {
   "cell_type": "code",
   "execution_count": 115,
   "metadata": {},
   "outputs": [
    {
     "data": {
      "text/plain": [
       "Int64Index([    4,     6,    13,    22,    35,    75,    89,   100,   113,\n",
       "              132,\n",
       "            ...\n",
       "            16006, 16018, 16032, 16035, 16117, 16121, 16208, 16239, 16251,\n",
       "            16277],\n",
       "           dtype='int64', length=963)"
      ]
     },
     "execution_count": 115,
     "metadata": {},
     "output_type": "execute_result"
    }
   ],
   "source": [
    "indexNames = data[ data['workclass'] == ' ?' ].index\n",
    "indexNames"
   ]
  },
  {
   "cell_type": "code",
   "execution_count": 116,
   "metadata": {},
   "outputs": [],
   "source": [
    "\n",
    "\n",
    "# Delete these row indexes from dataFrame\n",
    "data.drop(indexNames , inplace=True)"
   ]
  },
  {
   "cell_type": "code",
   "execution_count": 117,
   "metadata": {},
   "outputs": [
    {
     "data": {
      "text/plain": [
       "array([' Private', ' Local-gov', ' Self-emp-not-inc', ' Federal-gov',\n",
       "       ' State-gov', ' Self-emp-inc', ' Without-pay', ' Never-worked'],\n",
       "      dtype=object)"
      ]
     },
     "execution_count": 117,
     "metadata": {},
     "output_type": "execute_result"
    }
   ],
   "source": [
    "data.workclass.unique()"
   ]
  },
  {
   "cell_type": "code",
   "execution_count": 118,
   "metadata": {},
   "outputs": [
    {
     "data": {
      "text/plain": [
       "array([' 11th', ' HS-grad', ' Assoc-acdm', ' Some-college', ' 10th',\n",
       "       ' Prof-school', ' 7th-8th', ' Bachelors', ' Masters', ' Doctorate',\n",
       "       ' 5th-6th', ' Assoc-voc', ' 9th', ' 12th', ' 1st-4th',\n",
       "       ' Preschool'], dtype=object)"
      ]
     },
     "execution_count": 118,
     "metadata": {},
     "output_type": "execute_result"
    }
   ],
   "source": [
    "data.education.unique()"
   ]
  },
  {
   "cell_type": "code",
   "execution_count": 119,
   "metadata": {},
   "outputs": [
    {
     "data": {
      "text/plain": [
       "array([' Never-married', ' Married-civ-spouse', ' Widowed', ' Separated',\n",
       "       ' Divorced', ' Married-spouse-absent', ' Married-AF-spouse'],\n",
       "      dtype=object)"
      ]
     },
     "execution_count": 119,
     "metadata": {},
     "output_type": "execute_result"
    }
   ],
   "source": [
    "data.marital_status.unique()"
   ]
  },
  {
   "cell_type": "code",
   "execution_count": 120,
   "metadata": {},
   "outputs": [
    {
     "data": {
      "text/plain": [
       "array([' Machine-op-inspct', ' Farming-fishing', ' Protective-serv',\n",
       "       ' Other-service', ' Prof-specialty', ' Craft-repair',\n",
       "       ' Adm-clerical', ' Exec-managerial', ' Tech-support', ' Sales',\n",
       "       ' Priv-house-serv', ' Transport-moving', ' Handlers-cleaners',\n",
       "       ' Armed-Forces', ' ?'], dtype=object)"
      ]
     },
     "execution_count": 120,
     "metadata": {},
     "output_type": "execute_result"
    }
   ],
   "source": [
    "data.occupation.unique()"
   ]
  },
  {
   "cell_type": "code",
   "execution_count": 121,
   "metadata": {},
   "outputs": [],
   "source": [
    "indexNames = data[ data['occupation'] == ' ?' ].index\n",
    "indexNames\n",
    "\n",
    "# Delete these row indexes from dataFrame\n",
    "data.drop(indexNames , inplace=True)"
   ]
  },
  {
   "cell_type": "code",
   "execution_count": 122,
   "metadata": {},
   "outputs": [
    {
     "data": {
      "text/plain": [
       "array([' Own-child', ' Husband', ' Not-in-family', ' Unmarried', ' Wife',\n",
       "       ' Other-relative'], dtype=object)"
      ]
     },
     "execution_count": 122,
     "metadata": {},
     "output_type": "execute_result"
    }
   ],
   "source": [
    "data.relationship.unique()"
   ]
  },
  {
   "cell_type": "code",
   "execution_count": 123,
   "metadata": {},
   "outputs": [
    {
     "data": {
      "text/plain": [
       "array([' Black', ' White', ' Asian-Pac-Islander', ' Other',\n",
       "       ' Amer-Indian-Eskimo'], dtype=object)"
      ]
     },
     "execution_count": 123,
     "metadata": {},
     "output_type": "execute_result"
    }
   ],
   "source": [
    "data.race.unique()"
   ]
  },
  {
   "cell_type": "code",
   "execution_count": 124,
   "metadata": {},
   "outputs": [
    {
     "data": {
      "text/plain": [
       "array([' Male', ' Female'], dtype=object)"
      ]
     },
     "execution_count": 124,
     "metadata": {},
     "output_type": "execute_result"
    }
   ],
   "source": [
    "data.sex.unique()"
   ]
  },
  {
   "cell_type": "code",
   "execution_count": 125,
   "metadata": {},
   "outputs": [
    {
     "data": {
      "text/plain": [
       "array([' United-States', ' ?', ' Peru', ' Guatemala', ' Mexico',\n",
       "       ' Dominican-Republic', ' Ireland', ' Germany', ' Philippines',\n",
       "       ' Thailand', ' Haiti', ' El-Salvador', ' Puerto-Rico', ' Vietnam',\n",
       "       ' South', ' Columbia', ' Japan', ' India', ' Cambodia', ' Poland',\n",
       "       ' Laos', ' England', ' Cuba', ' Taiwan', ' Italy', ' Canada',\n",
       "       ' Portugal', ' China', ' Nicaragua', ' Honduras', ' Iran',\n",
       "       ' Scotland', ' Jamaica', ' Ecuador', ' Yugoslavia', ' Hungary',\n",
       "       ' Hong', ' Greece', ' Trinadad&Tobago',\n",
       "       ' Outlying-US(Guam-USVI-etc)', ' France'], dtype=object)"
      ]
     },
     "execution_count": 125,
     "metadata": {},
     "output_type": "execute_result"
    }
   ],
   "source": [
    "data.native_country.unique()"
   ]
  },
  {
   "cell_type": "code",
   "execution_count": 126,
   "metadata": {},
   "outputs": [],
   "source": [
    "df = pd.get_dummies(data, columns=[\n",
    "    \"workclass\", \"education\", \"marital_status\", \"occupation\", \"relationship\",\n",
    "    \"race\", \"sex\", \"native_country\",\n",
    "])"
   ]
  },
  {
   "cell_type": "code",
   "execution_count": 127,
   "metadata": {},
   "outputs": [
    {
     "data": {
      "text/plain": [
       "age                                0\n",
       "fnlwgt                             0\n",
       "education_num                      0\n",
       "capital_gain                       0\n",
       "capital_loss                       0\n",
       "                                  ..\n",
       "native_country_ Thailand           0\n",
       "native_country_ Trinadad&Tobago    0\n",
       "native_country_ United-States      0\n",
       "native_country_ Vietnam            0\n",
       "native_country_ Yugoslavia         0\n",
       "Length: 105, dtype: int64"
      ]
     },
     "execution_count": 127,
     "metadata": {},
     "output_type": "execute_result"
    }
   ],
   "source": [
    "# checking for missing values\n",
    "df.isna().sum()"
   ]
  },
  {
   "cell_type": "code",
   "execution_count": 128,
   "metadata": {},
   "outputs": [
    {
     "data": {
      "text/html": [
       "<div>\n",
       "<style scoped>\n",
       "    .dataframe tbody tr th:only-of-type {\n",
       "        vertical-align: middle;\n",
       "    }\n",
       "\n",
       "    .dataframe tbody tr th {\n",
       "        vertical-align: top;\n",
       "    }\n",
       "\n",
       "    .dataframe thead th {\n",
       "        text-align: right;\n",
       "    }\n",
       "</style>\n",
       "<table border=\"1\" class=\"dataframe\">\n",
       "  <thead>\n",
       "    <tr style=\"text-align: right;\">\n",
       "      <th></th>\n",
       "      <th>age</th>\n",
       "      <th>fnlwgt</th>\n",
       "      <th>education_num</th>\n",
       "      <th>capital_gain</th>\n",
       "      <th>capital_loss</th>\n",
       "      <th>hours_per_week</th>\n",
       "      <th>wage_class</th>\n",
       "      <th>workclass_ Federal-gov</th>\n",
       "      <th>workclass_ Local-gov</th>\n",
       "      <th>workclass_ Private</th>\n",
       "      <th>...</th>\n",
       "      <th>native_country_ Portugal</th>\n",
       "      <th>native_country_ Puerto-Rico</th>\n",
       "      <th>native_country_ Scotland</th>\n",
       "      <th>native_country_ South</th>\n",
       "      <th>native_country_ Taiwan</th>\n",
       "      <th>native_country_ Thailand</th>\n",
       "      <th>native_country_ Trinadad&amp;Tobago</th>\n",
       "      <th>native_country_ United-States</th>\n",
       "      <th>native_country_ Vietnam</th>\n",
       "      <th>native_country_ Yugoslavia</th>\n",
       "    </tr>\n",
       "  </thead>\n",
       "  <tbody>\n",
       "    <tr>\n",
       "      <td>0</td>\n",
       "      <td>25</td>\n",
       "      <td>226802</td>\n",
       "      <td>7</td>\n",
       "      <td>0</td>\n",
       "      <td>0</td>\n",
       "      <td>40</td>\n",
       "      <td>0</td>\n",
       "      <td>0</td>\n",
       "      <td>0</td>\n",
       "      <td>1</td>\n",
       "      <td>...</td>\n",
       "      <td>0</td>\n",
       "      <td>0</td>\n",
       "      <td>0</td>\n",
       "      <td>0</td>\n",
       "      <td>0</td>\n",
       "      <td>0</td>\n",
       "      <td>0</td>\n",
       "      <td>1</td>\n",
       "      <td>0</td>\n",
       "      <td>0</td>\n",
       "    </tr>\n",
       "    <tr>\n",
       "      <td>1</td>\n",
       "      <td>38</td>\n",
       "      <td>89814</td>\n",
       "      <td>9</td>\n",
       "      <td>0</td>\n",
       "      <td>0</td>\n",
       "      <td>50</td>\n",
       "      <td>0</td>\n",
       "      <td>0</td>\n",
       "      <td>0</td>\n",
       "      <td>1</td>\n",
       "      <td>...</td>\n",
       "      <td>0</td>\n",
       "      <td>0</td>\n",
       "      <td>0</td>\n",
       "      <td>0</td>\n",
       "      <td>0</td>\n",
       "      <td>0</td>\n",
       "      <td>0</td>\n",
       "      <td>1</td>\n",
       "      <td>0</td>\n",
       "      <td>0</td>\n",
       "    </tr>\n",
       "    <tr>\n",
       "      <td>2</td>\n",
       "      <td>28</td>\n",
       "      <td>336951</td>\n",
       "      <td>12</td>\n",
       "      <td>0</td>\n",
       "      <td>0</td>\n",
       "      <td>40</td>\n",
       "      <td>1</td>\n",
       "      <td>0</td>\n",
       "      <td>1</td>\n",
       "      <td>0</td>\n",
       "      <td>...</td>\n",
       "      <td>0</td>\n",
       "      <td>0</td>\n",
       "      <td>0</td>\n",
       "      <td>0</td>\n",
       "      <td>0</td>\n",
       "      <td>0</td>\n",
       "      <td>0</td>\n",
       "      <td>1</td>\n",
       "      <td>0</td>\n",
       "      <td>0</td>\n",
       "    </tr>\n",
       "    <tr>\n",
       "      <td>3</td>\n",
       "      <td>44</td>\n",
       "      <td>160323</td>\n",
       "      <td>10</td>\n",
       "      <td>7688</td>\n",
       "      <td>0</td>\n",
       "      <td>40</td>\n",
       "      <td>1</td>\n",
       "      <td>0</td>\n",
       "      <td>0</td>\n",
       "      <td>1</td>\n",
       "      <td>...</td>\n",
       "      <td>0</td>\n",
       "      <td>0</td>\n",
       "      <td>0</td>\n",
       "      <td>0</td>\n",
       "      <td>0</td>\n",
       "      <td>0</td>\n",
       "      <td>0</td>\n",
       "      <td>1</td>\n",
       "      <td>0</td>\n",
       "      <td>0</td>\n",
       "    </tr>\n",
       "    <tr>\n",
       "      <td>5</td>\n",
       "      <td>34</td>\n",
       "      <td>198693</td>\n",
       "      <td>6</td>\n",
       "      <td>0</td>\n",
       "      <td>0</td>\n",
       "      <td>30</td>\n",
       "      <td>0</td>\n",
       "      <td>0</td>\n",
       "      <td>0</td>\n",
       "      <td>1</td>\n",
       "      <td>...</td>\n",
       "      <td>0</td>\n",
       "      <td>0</td>\n",
       "      <td>0</td>\n",
       "      <td>0</td>\n",
       "      <td>0</td>\n",
       "      <td>0</td>\n",
       "      <td>0</td>\n",
       "      <td>1</td>\n",
       "      <td>0</td>\n",
       "      <td>0</td>\n",
       "    </tr>\n",
       "  </tbody>\n",
       "</table>\n",
       "<p>5 rows × 105 columns</p>\n",
       "</div>"
      ],
      "text/plain": [
       "   age  fnlwgt  education_num  capital_gain  capital_loss  hours_per_week  \\\n",
       "0   25  226802              7             0             0              40   \n",
       "1   38   89814              9             0             0              50   \n",
       "2   28  336951             12             0             0              40   \n",
       "3   44  160323             10          7688             0              40   \n",
       "5   34  198693              6             0             0              30   \n",
       "\n",
       "   wage_class  workclass_ Federal-gov  workclass_ Local-gov  \\\n",
       "0           0                       0                     0   \n",
       "1           0                       0                     0   \n",
       "2           1                       0                     1   \n",
       "3           1                       0                     0   \n",
       "5           0                       0                     0   \n",
       "\n",
       "   workclass_ Private  ...  native_country_ Portugal  \\\n",
       "0                   1  ...                         0   \n",
       "1                   1  ...                         0   \n",
       "2                   0  ...                         0   \n",
       "3                   1  ...                         0   \n",
       "5                   1  ...                         0   \n",
       "\n",
       "   native_country_ Puerto-Rico  native_country_ Scotland  \\\n",
       "0                            0                         0   \n",
       "1                            0                         0   \n",
       "2                            0                         0   \n",
       "3                            0                         0   \n",
       "5                            0                         0   \n",
       "\n",
       "   native_country_ South  native_country_ Taiwan  native_country_ Thailand  \\\n",
       "0                      0                       0                         0   \n",
       "1                      0                       0                         0   \n",
       "2                      0                       0                         0   \n",
       "3                      0                       0                         0   \n",
       "5                      0                       0                         0   \n",
       "\n",
       "   native_country_ Trinadad&Tobago  native_country_ United-States  \\\n",
       "0                                0                              1   \n",
       "1                                0                              1   \n",
       "2                                0                              1   \n",
       "3                                0                              1   \n",
       "5                                0                              1   \n",
       "\n",
       "   native_country_ Vietnam  native_country_ Yugoslavia  \n",
       "0                        0                           0  \n",
       "1                        0                           0  \n",
       "2                        0                           0  \n",
       "3                        0                           0  \n",
       "5                        0                           0  \n",
       "\n",
       "[5 rows x 105 columns]"
      ]
     },
     "execution_count": 128,
     "metadata": {},
     "output_type": "execute_result"
    }
   ],
   "source": [
    "df.head()"
   ]
  },
  {
   "cell_type": "code",
   "execution_count": 129,
   "metadata": {},
   "outputs": [],
   "source": [
    "#Separating the feature and the Label columns \n",
    "x=df.drop(labels='wage_class', axis=1)\n",
    "y= df['wage_class']"
   ]
  },
  {
   "cell_type": "code",
   "execution_count": 130,
   "metadata": {},
   "outputs": [
    {
     "data": {
      "text/html": [
       "<div>\n",
       "<style scoped>\n",
       "    .dataframe tbody tr th:only-of-type {\n",
       "        vertical-align: middle;\n",
       "    }\n",
       "\n",
       "    .dataframe tbody tr th {\n",
       "        vertical-align: top;\n",
       "    }\n",
       "\n",
       "    .dataframe thead th {\n",
       "        text-align: right;\n",
       "    }\n",
       "</style>\n",
       "<table border=\"1\" class=\"dataframe\">\n",
       "  <thead>\n",
       "    <tr style=\"text-align: right;\">\n",
       "      <th></th>\n",
       "      <th>age</th>\n",
       "      <th>fnlwgt</th>\n",
       "      <th>education_num</th>\n",
       "      <th>capital_gain</th>\n",
       "      <th>capital_loss</th>\n",
       "      <th>hours_per_week</th>\n",
       "      <th>workclass_ Federal-gov</th>\n",
       "      <th>workclass_ Local-gov</th>\n",
       "      <th>workclass_ Private</th>\n",
       "      <th>workclass_ Self-emp-inc</th>\n",
       "      <th>...</th>\n",
       "      <th>native_country_ Portugal</th>\n",
       "      <th>native_country_ Puerto-Rico</th>\n",
       "      <th>native_country_ Scotland</th>\n",
       "      <th>native_country_ South</th>\n",
       "      <th>native_country_ Taiwan</th>\n",
       "      <th>native_country_ Thailand</th>\n",
       "      <th>native_country_ Trinadad&amp;Tobago</th>\n",
       "      <th>native_country_ United-States</th>\n",
       "      <th>native_country_ Vietnam</th>\n",
       "      <th>native_country_ Yugoslavia</th>\n",
       "    </tr>\n",
       "  </thead>\n",
       "  <tbody>\n",
       "    <tr>\n",
       "      <td>0</td>\n",
       "      <td>25</td>\n",
       "      <td>226802</td>\n",
       "      <td>7</td>\n",
       "      <td>0</td>\n",
       "      <td>0</td>\n",
       "      <td>40</td>\n",
       "      <td>0</td>\n",
       "      <td>0</td>\n",
       "      <td>1</td>\n",
       "      <td>0</td>\n",
       "      <td>...</td>\n",
       "      <td>0</td>\n",
       "      <td>0</td>\n",
       "      <td>0</td>\n",
       "      <td>0</td>\n",
       "      <td>0</td>\n",
       "      <td>0</td>\n",
       "      <td>0</td>\n",
       "      <td>1</td>\n",
       "      <td>0</td>\n",
       "      <td>0</td>\n",
       "    </tr>\n",
       "    <tr>\n",
       "      <td>1</td>\n",
       "      <td>38</td>\n",
       "      <td>89814</td>\n",
       "      <td>9</td>\n",
       "      <td>0</td>\n",
       "      <td>0</td>\n",
       "      <td>50</td>\n",
       "      <td>0</td>\n",
       "      <td>0</td>\n",
       "      <td>1</td>\n",
       "      <td>0</td>\n",
       "      <td>...</td>\n",
       "      <td>0</td>\n",
       "      <td>0</td>\n",
       "      <td>0</td>\n",
       "      <td>0</td>\n",
       "      <td>0</td>\n",
       "      <td>0</td>\n",
       "      <td>0</td>\n",
       "      <td>1</td>\n",
       "      <td>0</td>\n",
       "      <td>0</td>\n",
       "    </tr>\n",
       "    <tr>\n",
       "      <td>2</td>\n",
       "      <td>28</td>\n",
       "      <td>336951</td>\n",
       "      <td>12</td>\n",
       "      <td>0</td>\n",
       "      <td>0</td>\n",
       "      <td>40</td>\n",
       "      <td>0</td>\n",
       "      <td>1</td>\n",
       "      <td>0</td>\n",
       "      <td>0</td>\n",
       "      <td>...</td>\n",
       "      <td>0</td>\n",
       "      <td>0</td>\n",
       "      <td>0</td>\n",
       "      <td>0</td>\n",
       "      <td>0</td>\n",
       "      <td>0</td>\n",
       "      <td>0</td>\n",
       "      <td>1</td>\n",
       "      <td>0</td>\n",
       "      <td>0</td>\n",
       "    </tr>\n",
       "    <tr>\n",
       "      <td>3</td>\n",
       "      <td>44</td>\n",
       "      <td>160323</td>\n",
       "      <td>10</td>\n",
       "      <td>7688</td>\n",
       "      <td>0</td>\n",
       "      <td>40</td>\n",
       "      <td>0</td>\n",
       "      <td>0</td>\n",
       "      <td>1</td>\n",
       "      <td>0</td>\n",
       "      <td>...</td>\n",
       "      <td>0</td>\n",
       "      <td>0</td>\n",
       "      <td>0</td>\n",
       "      <td>0</td>\n",
       "      <td>0</td>\n",
       "      <td>0</td>\n",
       "      <td>0</td>\n",
       "      <td>1</td>\n",
       "      <td>0</td>\n",
       "      <td>0</td>\n",
       "    </tr>\n",
       "    <tr>\n",
       "      <td>5</td>\n",
       "      <td>34</td>\n",
       "      <td>198693</td>\n",
       "      <td>6</td>\n",
       "      <td>0</td>\n",
       "      <td>0</td>\n",
       "      <td>30</td>\n",
       "      <td>0</td>\n",
       "      <td>0</td>\n",
       "      <td>1</td>\n",
       "      <td>0</td>\n",
       "      <td>...</td>\n",
       "      <td>0</td>\n",
       "      <td>0</td>\n",
       "      <td>0</td>\n",
       "      <td>0</td>\n",
       "      <td>0</td>\n",
       "      <td>0</td>\n",
       "      <td>0</td>\n",
       "      <td>1</td>\n",
       "      <td>0</td>\n",
       "      <td>0</td>\n",
       "    </tr>\n",
       "  </tbody>\n",
       "</table>\n",
       "<p>5 rows × 104 columns</p>\n",
       "</div>"
      ],
      "text/plain": [
       "   age  fnlwgt  education_num  capital_gain  capital_loss  hours_per_week  \\\n",
       "0   25  226802              7             0             0              40   \n",
       "1   38   89814              9             0             0              50   \n",
       "2   28  336951             12             0             0              40   \n",
       "3   44  160323             10          7688             0              40   \n",
       "5   34  198693              6             0             0              30   \n",
       "\n",
       "   workclass_ Federal-gov  workclass_ Local-gov  workclass_ Private  \\\n",
       "0                       0                     0                   1   \n",
       "1                       0                     0                   1   \n",
       "2                       0                     1                   0   \n",
       "3                       0                     0                   1   \n",
       "5                       0                     0                   1   \n",
       "\n",
       "   workclass_ Self-emp-inc  ...  native_country_ Portugal  \\\n",
       "0                        0  ...                         0   \n",
       "1                        0  ...                         0   \n",
       "2                        0  ...                         0   \n",
       "3                        0  ...                         0   \n",
       "5                        0  ...                         0   \n",
       "\n",
       "   native_country_ Puerto-Rico  native_country_ Scotland  \\\n",
       "0                            0                         0   \n",
       "1                            0                         0   \n",
       "2                            0                         0   \n",
       "3                            0                         0   \n",
       "5                            0                         0   \n",
       "\n",
       "   native_country_ South  native_country_ Taiwan  native_country_ Thailand  \\\n",
       "0                      0                       0                         0   \n",
       "1                      0                       0                         0   \n",
       "2                      0                       0                         0   \n",
       "3                      0                       0                         0   \n",
       "5                      0                       0                         0   \n",
       "\n",
       "   native_country_ Trinadad&Tobago  native_country_ United-States  \\\n",
       "0                                0                              1   \n",
       "1                                0                              1   \n",
       "2                                0                              1   \n",
       "3                                0                              1   \n",
       "5                                0                              1   \n",
       "\n",
       "   native_country_ Vietnam  native_country_ Yugoslavia  \n",
       "0                        0                           0  \n",
       "1                        0                           0  \n",
       "2                        0                           0  \n",
       "3                        0                           0  \n",
       "5                        0                           0  \n",
       "\n",
       "[5 rows x 104 columns]"
      ]
     },
     "execution_count": 130,
     "metadata": {},
     "output_type": "execute_result"
    }
   ],
   "source": [
    "x.head()"
   ]
  },
  {
   "cell_type": "code",
   "execution_count": 131,
   "metadata": {},
   "outputs": [],
   "source": [
    "from sklearn.model_selection import train_test_split\n",
    "train_x,test_x,train_y,test_y=train_test_split(x,y,test_size=0.3,random_state=42)\n"
   ]
  },
  {
   "cell_type": "code",
   "execution_count": 132,
   "metadata": {},
   "outputs": [
    {
     "data": {
      "text/plain": [
       "XGBClassifier(base_score=0.5, booster=None, colsample_bylevel=1,\n",
       "              colsample_bynode=1, colsample_bytree=1, gamma=0, gpu_id=-1,\n",
       "              importance_type='gain', interaction_constraints=None,\n",
       "              learning_rate=0.300000012, max_delta_step=0, max_depth=6,\n",
       "              min_child_weight=1, missing=nan, monotone_constraints=None,\n",
       "              n_estimators=100, n_jobs=0, num_parallel_tree=1,\n",
       "              objective='binary:logistic', random_state=0, reg_alpha=0,\n",
       "              reg_lambda=1, scale_pos_weight=1, subsample=1, tree_method=None,\n",
       "              validate_parameters=False, verbosity=None)"
      ]
     },
     "execution_count": 132,
     "metadata": {},
     "output_type": "execute_result"
    }
   ],
   "source": [
    "model = XGBClassifier(objective='binary:logistic')\n",
    "model.fit(train_x, train_y)"
   ]
  },
  {
   "cell_type": "code",
   "execution_count": 133,
   "metadata": {},
   "outputs": [
    {
     "data": {
      "text/plain": [
       "0.9266791044776119"
      ]
     },
     "execution_count": 133,
     "metadata": {},
     "output_type": "execute_result"
    }
   ],
   "source": [
    "# cheking training accuracy\n",
    "y_pred = model.predict(train_x)\n",
    "predictions = [round(value) for value in y_pred]\n",
    "accuracy = accuracy_score(train_y,predictions)\n",
    "accuracy"
   ]
  },
  {
   "cell_type": "code",
   "execution_count": 134,
   "metadata": {},
   "outputs": [
    {
     "data": {
      "text/plain": [
       "0.8609357997823721"
      ]
     },
     "execution_count": 134,
     "metadata": {},
     "output_type": "execute_result"
    }
   ],
   "source": [
    "# cheking initial test accuracy\n",
    "y_pred = model.predict(test_x)\n",
    "predictions = [round(value) for value in y_pred]\n",
    "accuracy = accuracy_score(test_y,predictions)\n",
    "accuracy"
   ]
  },
  {
   "cell_type": "markdown",
   "metadata": {},
   "source": [
    "### Hyperparameter Tuning"
   ]
  },
  {
   "cell_type": "code",
   "execution_count": 135,
   "metadata": {},
   "outputs": [],
   "source": [
    "# Now to increae the accuracy of the model, we'll do hyperparameter tuning using grid search\n",
    "from sklearn.model_selection import GridSearchCV"
   ]
  },
  {
   "cell_type": "code",
   "execution_count": 136,
   "metadata": {},
   "outputs": [],
   "source": [
    "param_grid={\n",
    "   \n",
    "    ' learning_rate':[1,0.5,0.1,0.01,0.001],\n",
    "    'max_depth': [3,5,10,20],\n",
    "    'n_estimators':[10,50,100,200]\n",
    "    \n",
    "}"
   ]
  },
  {
   "cell_type": "code",
   "execution_count": 137,
   "metadata": {},
   "outputs": [],
   "source": [
    "grid= GridSearchCV(XGBClassifier(objective='binary:logistic'),param_grid, verbose=3)"
   ]
  },
  {
   "cell_type": "code",
   "execution_count": null,
   "metadata": {},
   "outputs": [
    {
     "name": "stderr",
     "output_type": "stream",
     "text": [
      "C:\\Users\\shrey\\AppData\\Local\\Continuum\\anaconda3\\lib\\site-packages\\sklearn\\model_selection\\_split.py:1978: FutureWarning: The default value of cv will change from 3 to 5 in version 0.22. Specify it explicitly to silence this warning.\n",
      "  warnings.warn(CV_WARNING, FutureWarning)\n",
      "[Parallel(n_jobs=1)]: Using backend SequentialBackend with 1 concurrent workers.\n",
      "[Parallel(n_jobs=1)]: Done   1 out of   1 | elapsed:    0.1s remaining:    0.0s\n"
     ]
    },
    {
     "name": "stdout",
     "output_type": "stream",
     "text": [
      "Fitting 3 folds for each of 80 candidates, totalling 240 fits\n",
      "[CV]  learning_rate=1, max_depth=3, n_estimators=10 ..................\n",
      "[CV]   learning_rate=1, max_depth=3, n_estimators=10, score=0.846, total=   0.2s\n",
      "[CV]  learning_rate=1, max_depth=3, n_estimators=10 ..................\n",
      "[CV]   learning_rate=1, max_depth=3, n_estimators=10, score=0.855, total=   0.2s\n",
      "[CV]  learning_rate=1, max_depth=3, n_estimators=10 ..................\n",
      "[CV]   learning_rate=1, max_depth=3, n_estimators=10, score=0.853, total=   0.1s\n",
      "[CV]  learning_rate=1, max_depth=3, n_estimators=50 ..................\n"
     ]
    },
    {
     "name": "stderr",
     "output_type": "stream",
     "text": [
      "[Parallel(n_jobs=1)]: Done   2 out of   2 | elapsed:    0.2s remaining:    0.0s\n"
     ]
    },
    {
     "name": "stdout",
     "output_type": "stream",
     "text": [
      "[CV]   learning_rate=1, max_depth=3, n_estimators=50, score=0.855, total=   0.5s\n",
      "[CV]  learning_rate=1, max_depth=3, n_estimators=50 ..................\n",
      "[CV]   learning_rate=1, max_depth=3, n_estimators=50, score=0.866, total=   0.5s\n",
      "[CV]  learning_rate=1, max_depth=3, n_estimators=50 ..................\n",
      "[CV]   learning_rate=1, max_depth=3, n_estimators=50, score=0.859, total=   0.5s\n",
      "[CV]  learning_rate=1, max_depth=3, n_estimators=100 .................\n",
      "[CV]   learning_rate=1, max_depth=3, n_estimators=100, score=0.858, total=   0.9s\n",
      "[CV]  learning_rate=1, max_depth=3, n_estimators=100 .................\n",
      "[CV]   learning_rate=1, max_depth=3, n_estimators=100, score=0.867, total=   0.9s\n",
      "[CV]  learning_rate=1, max_depth=3, n_estimators=100 .................\n",
      "[CV]   learning_rate=1, max_depth=3, n_estimators=100, score=0.861, total=   0.9s\n",
      "[CV]  learning_rate=1, max_depth=3, n_estimators=200 .................\n",
      "[CV]   learning_rate=1, max_depth=3, n_estimators=200, score=0.858, total=   1.9s\n",
      "[CV]  learning_rate=1, max_depth=3, n_estimators=200 .................\n",
      "[CV]   learning_rate=1, max_depth=3, n_estimators=200, score=0.863, total=   1.7s\n",
      "[CV]  learning_rate=1, max_depth=3, n_estimators=200 .................\n",
      "[CV]   learning_rate=1, max_depth=3, n_estimators=200, score=0.856, total=   1.7s\n",
      "[CV]  learning_rate=1, max_depth=5, n_estimators=10 ..................\n",
      "[CV]   learning_rate=1, max_depth=5, n_estimators=10, score=0.853, total=   0.2s\n",
      "[CV]  learning_rate=1, max_depth=5, n_estimators=10 ..................\n",
      "[CV]   learning_rate=1, max_depth=5, n_estimators=10, score=0.859, total=   0.2s\n",
      "[CV]  learning_rate=1, max_depth=5, n_estimators=10 ..................\n",
      "[CV]   learning_rate=1, max_depth=5, n_estimators=10, score=0.860, total=   0.2s\n",
      "[CV]  learning_rate=1, max_depth=5, n_estimators=50 ..................\n",
      "[CV]   learning_rate=1, max_depth=5, n_estimators=50, score=0.860, total=   0.7s\n",
      "[CV]  learning_rate=1, max_depth=5, n_estimators=50 ..................\n",
      "[CV]   learning_rate=1, max_depth=5, n_estimators=50, score=0.857, total=   0.7s\n",
      "[CV]  learning_rate=1, max_depth=5, n_estimators=50 ..................\n",
      "[CV]   learning_rate=1, max_depth=5, n_estimators=50, score=0.859, total=   0.7s\n",
      "[CV]  learning_rate=1, max_depth=5, n_estimators=100 .................\n",
      "[CV]   learning_rate=1, max_depth=5, n_estimators=100, score=0.854, total=   1.3s\n",
      "[CV]  learning_rate=1, max_depth=5, n_estimators=100 .................\n",
      "[CV]   learning_rate=1, max_depth=5, n_estimators=100, score=0.851, total=   1.3s\n",
      "[CV]  learning_rate=1, max_depth=5, n_estimators=100 .................\n",
      "[CV]   learning_rate=1, max_depth=5, n_estimators=100, score=0.855, total=   1.3s\n",
      "[CV]  learning_rate=1, max_depth=5, n_estimators=200 .................\n",
      "[CV]   learning_rate=1, max_depth=5, n_estimators=200, score=0.849, total=   2.4s\n",
      "[CV]  learning_rate=1, max_depth=5, n_estimators=200 .................\n",
      "[CV]   learning_rate=1, max_depth=5, n_estimators=200, score=0.849, total=   2.5s\n",
      "[CV]  learning_rate=1, max_depth=5, n_estimators=200 .................\n",
      "[CV]   learning_rate=1, max_depth=5, n_estimators=200, score=0.844, total=   2.8s\n",
      "[CV]  learning_rate=1, max_depth=10, n_estimators=10 .................\n",
      "[CV]   learning_rate=1, max_depth=10, n_estimators=10, score=0.854, total=   0.3s\n",
      "[CV]  learning_rate=1, max_depth=10, n_estimators=10 .................\n",
      "[CV]   learning_rate=1, max_depth=10, n_estimators=10, score=0.853, total=   0.3s\n",
      "[CV]  learning_rate=1, max_depth=10, n_estimators=10 .................\n",
      "[CV]   learning_rate=1, max_depth=10, n_estimators=10, score=0.862, total=   0.3s\n",
      "[CV]  learning_rate=1, max_depth=10, n_estimators=50 .................\n",
      "[CV]   learning_rate=1, max_depth=10, n_estimators=50, score=0.852, total=   1.3s\n",
      "[CV]  learning_rate=1, max_depth=10, n_estimators=50 .................\n",
      "[CV]   learning_rate=1, max_depth=10, n_estimators=50, score=0.849, total=   1.4s\n",
      "[CV]  learning_rate=1, max_depth=10, n_estimators=50 .................\n",
      "[CV]   learning_rate=1, max_depth=10, n_estimators=50, score=0.855, total=   1.1s\n",
      "[CV]  learning_rate=1, max_depth=10, n_estimators=100 ................\n",
      "[CV]   learning_rate=1, max_depth=10, n_estimators=100, score=0.848, total=   2.4s\n",
      "[CV]  learning_rate=1, max_depth=10, n_estimators=100 ................\n",
      "[CV]   learning_rate=1, max_depth=10, n_estimators=100, score=0.842, total=   2.4s\n",
      "[CV]  learning_rate=1, max_depth=10, n_estimators=100 ................\n",
      "[CV]   learning_rate=1, max_depth=10, n_estimators=100, score=0.847, total=   2.8s\n",
      "[CV]  learning_rate=1, max_depth=10, n_estimators=200 ................\n",
      "[CV]   learning_rate=1, max_depth=10, n_estimators=200, score=0.843, total=   5.8s\n",
      "[CV]  learning_rate=1, max_depth=10, n_estimators=200 ................\n",
      "[CV]   learning_rate=1, max_depth=10, n_estimators=200, score=0.841, total=   5.4s\n",
      "[CV]  learning_rate=1, max_depth=10, n_estimators=200 ................\n",
      "[CV]   learning_rate=1, max_depth=10, n_estimators=200, score=0.841, total=   5.1s\n",
      "[CV]  learning_rate=1, max_depth=20, n_estimators=10 .................\n",
      "[CV]   learning_rate=1, max_depth=20, n_estimators=10, score=0.845, total=   0.6s\n",
      "[CV]  learning_rate=1, max_depth=20, n_estimators=10 .................\n",
      "[CV]   learning_rate=1, max_depth=20, n_estimators=10, score=0.847, total=   0.6s\n",
      "[CV]  learning_rate=1, max_depth=20, n_estimators=10 .................\n",
      "[CV]   learning_rate=1, max_depth=20, n_estimators=10, score=0.847, total=   0.6s\n",
      "[CV]  learning_rate=1, max_depth=20, n_estimators=50 .................\n",
      "[CV]   learning_rate=1, max_depth=20, n_estimators=50, score=0.838, total=   2.4s\n",
      "[CV]  learning_rate=1, max_depth=20, n_estimators=50 .................\n",
      "[CV]   learning_rate=1, max_depth=20, n_estimators=50, score=0.844, total=   2.3s\n",
      "[CV]  learning_rate=1, max_depth=20, n_estimators=50 .................\n",
      "[CV]   learning_rate=1, max_depth=20, n_estimators=50, score=0.845, total=   2.2s\n",
      "[CV]  learning_rate=1, max_depth=20, n_estimators=100 ................\n",
      "[CV]   learning_rate=1, max_depth=20, n_estimators=100, score=0.839, total=   4.5s\n",
      "[CV]  learning_rate=1, max_depth=20, n_estimators=100 ................\n",
      "[CV]   learning_rate=1, max_depth=20, n_estimators=100, score=0.841, total=   4.6s\n",
      "[CV]  learning_rate=1, max_depth=20, n_estimators=100 ................\n",
      "[CV]   learning_rate=1, max_depth=20, n_estimators=100, score=0.841, total=   4.5s\n",
      "[CV]  learning_rate=1, max_depth=20, n_estimators=200 ................\n",
      "[CV]   learning_rate=1, max_depth=20, n_estimators=200, score=0.839, total=   8.7s\n",
      "[CV]  learning_rate=1, max_depth=20, n_estimators=200 ................\n",
      "[CV]   learning_rate=1, max_depth=20, n_estimators=200, score=0.836, total=   9.1s\n",
      "[CV]  learning_rate=1, max_depth=20, n_estimators=200 ................\n",
      "[CV]   learning_rate=1, max_depth=20, n_estimators=200, score=0.840, total=   8.6s\n",
      "[CV]  learning_rate=0.5, max_depth=3, n_estimators=10 ................\n",
      "[CV]   learning_rate=0.5, max_depth=3, n_estimators=10, score=0.846, total=   0.2s\n",
      "[CV]  learning_rate=0.5, max_depth=3, n_estimators=10 ................\n",
      "[CV]   learning_rate=0.5, max_depth=3, n_estimators=10, score=0.855, total=   0.2s\n",
      "[CV]  learning_rate=0.5, max_depth=3, n_estimators=10 ................\n",
      "[CV]   learning_rate=0.5, max_depth=3, n_estimators=10, score=0.853, total=   0.2s\n",
      "[CV]  learning_rate=0.5, max_depth=3, n_estimators=50 ................\n",
      "[CV]   learning_rate=0.5, max_depth=3, n_estimators=50, score=0.855, total=   0.7s\n",
      "[CV]  learning_rate=0.5, max_depth=3, n_estimators=50 ................\n",
      "[CV]   learning_rate=0.5, max_depth=3, n_estimators=50, score=0.866, total=   0.6s\n",
      "[CV]  learning_rate=0.5, max_depth=3, n_estimators=50 ................\n",
      "[CV]   learning_rate=0.5, max_depth=3, n_estimators=50, score=0.859, total=   0.6s\n",
      "[CV]  learning_rate=0.5, max_depth=3, n_estimators=100 ...............\n",
      "[CV]   learning_rate=0.5, max_depth=3, n_estimators=100, score=0.858, total=   1.0s\n",
      "[CV]  learning_rate=0.5, max_depth=3, n_estimators=100 ...............\n",
      "[CV]   learning_rate=0.5, max_depth=3, n_estimators=100, score=0.867, total=   1.0s\n",
      "[CV]  learning_rate=0.5, max_depth=3, n_estimators=100 ...............\n",
      "[CV]   learning_rate=0.5, max_depth=3, n_estimators=100, score=0.861, total=   1.0s\n",
      "[CV]  learning_rate=0.5, max_depth=3, n_estimators=200 ...............\n"
     ]
    },
    {
     "name": "stdout",
     "output_type": "stream",
     "text": [
      "[CV]   learning_rate=0.5, max_depth=3, n_estimators=200, score=0.858, total=   2.3s\n",
      "[CV]  learning_rate=0.5, max_depth=3, n_estimators=200 ...............\n",
      "[CV]   learning_rate=0.5, max_depth=3, n_estimators=200, score=0.863, total=   2.3s\n",
      "[CV]  learning_rate=0.5, max_depth=3, n_estimators=200 ...............\n",
      "[CV]   learning_rate=0.5, max_depth=3, n_estimators=200, score=0.856, total=   2.1s\n",
      "[CV]  learning_rate=0.5, max_depth=5, n_estimators=10 ................\n",
      "[CV]   learning_rate=0.5, max_depth=5, n_estimators=10, score=0.853, total=   0.2s\n",
      "[CV]  learning_rate=0.5, max_depth=5, n_estimators=10 ................\n",
      "[CV]   learning_rate=0.5, max_depth=5, n_estimators=10, score=0.859, total=   0.2s\n",
      "[CV]  learning_rate=0.5, max_depth=5, n_estimators=10 ................\n",
      "[CV]   learning_rate=0.5, max_depth=5, n_estimators=10, score=0.860, total=   0.2s\n",
      "[CV]  learning_rate=0.5, max_depth=5, n_estimators=50 ................\n",
      "[CV]   learning_rate=0.5, max_depth=5, n_estimators=50, score=0.860, total=   0.8s\n",
      "[CV]  learning_rate=0.5, max_depth=5, n_estimators=50 ................\n",
      "[CV]   learning_rate=0.5, max_depth=5, n_estimators=50, score=0.857, total=   0.8s\n",
      "[CV]  learning_rate=0.5, max_depth=5, n_estimators=50 ................\n",
      "[CV]   learning_rate=0.5, max_depth=5, n_estimators=50, score=0.859, total=   0.8s\n",
      "[CV]  learning_rate=0.5, max_depth=5, n_estimators=100 ...............\n",
      "[CV]   learning_rate=0.5, max_depth=5, n_estimators=100, score=0.854, total=   1.7s\n",
      "[CV]  learning_rate=0.5, max_depth=5, n_estimators=100 ...............\n",
      "[CV]   learning_rate=0.5, max_depth=5, n_estimators=100, score=0.851, total=   1.6s\n",
      "[CV]  learning_rate=0.5, max_depth=5, n_estimators=100 ...............\n",
      "[CV]   learning_rate=0.5, max_depth=5, n_estimators=100, score=0.855, total=   1.5s\n",
      "[CV]  learning_rate=0.5, max_depth=5, n_estimators=200 ...............\n",
      "[CV]   learning_rate=0.5, max_depth=5, n_estimators=200, score=0.849, total=   3.1s\n",
      "[CV]  learning_rate=0.5, max_depth=5, n_estimators=200 ...............\n",
      "[CV]   learning_rate=0.5, max_depth=5, n_estimators=200, score=0.849, total=   2.9s\n",
      "[CV]  learning_rate=0.5, max_depth=5, n_estimators=200 ...............\n",
      "[CV]   learning_rate=0.5, max_depth=5, n_estimators=200, score=0.844, total=   2.9s\n",
      "[CV]  learning_rate=0.5, max_depth=10, n_estimators=10 ...............\n",
      "[CV]   learning_rate=0.5, max_depth=10, n_estimators=10, score=0.854, total=   0.3s\n",
      "[CV]  learning_rate=0.5, max_depth=10, n_estimators=10 ...............\n",
      "[CV]   learning_rate=0.5, max_depth=10, n_estimators=10, score=0.853, total=   0.4s\n",
      "[CV]  learning_rate=0.5, max_depth=10, n_estimators=10 ...............\n",
      "[CV]   learning_rate=0.5, max_depth=10, n_estimators=10, score=0.862, total=   0.4s\n",
      "[CV]  learning_rate=0.5, max_depth=10, n_estimators=50 ...............\n",
      "[CV]   learning_rate=0.5, max_depth=10, n_estimators=50, score=0.852, total=   1.3s\n",
      "[CV]  learning_rate=0.5, max_depth=10, n_estimators=50 ...............\n",
      "[CV]   learning_rate=0.5, max_depth=10, n_estimators=50, score=0.849, total=   1.4s\n",
      "[CV]  learning_rate=0.5, max_depth=10, n_estimators=50 ...............\n",
      "[CV]   learning_rate=0.5, max_depth=10, n_estimators=50, score=0.855, total=   1.4s\n",
      "[CV]  learning_rate=0.5, max_depth=10, n_estimators=100 ..............\n",
      "[CV]   learning_rate=0.5, max_depth=10, n_estimators=100, score=0.848, total=   2.5s\n",
      "[CV]  learning_rate=0.5, max_depth=10, n_estimators=100 ..............\n",
      "[CV]   learning_rate=0.5, max_depth=10, n_estimators=100, score=0.842, total=   2.6s\n",
      "[CV]  learning_rate=0.5, max_depth=10, n_estimators=100 ..............\n",
      "[CV]   learning_rate=0.5, max_depth=10, n_estimators=100, score=0.847, total=   2.6s\n",
      "[CV]  learning_rate=0.5, max_depth=10, n_estimators=200 ..............\n",
      "[CV]   learning_rate=0.5, max_depth=10, n_estimators=200, score=0.843, total=   4.9s\n",
      "[CV]  learning_rate=0.5, max_depth=10, n_estimators=200 ..............\n",
      "[CV]   learning_rate=0.5, max_depth=10, n_estimators=200, score=0.841, total=   5.0s\n",
      "[CV]  learning_rate=0.5, max_depth=10, n_estimators=200 ..............\n",
      "[CV]   learning_rate=0.5, max_depth=10, n_estimators=200, score=0.841, total=   4.8s\n",
      "[CV]  learning_rate=0.5, max_depth=20, n_estimators=10 ...............\n",
      "[CV]   learning_rate=0.5, max_depth=20, n_estimators=10, score=0.845, total=   0.5s\n",
      "[CV]  learning_rate=0.5, max_depth=20, n_estimators=10 ...............\n",
      "[CV]   learning_rate=0.5, max_depth=20, n_estimators=10, score=0.847, total=   0.5s\n",
      "[CV]  learning_rate=0.5, max_depth=20, n_estimators=10 ...............\n",
      "[CV]   learning_rate=0.5, max_depth=20, n_estimators=10, score=0.847, total=   0.5s\n",
      "[CV]  learning_rate=0.5, max_depth=20, n_estimators=50 ...............\n",
      "[CV]   learning_rate=0.5, max_depth=20, n_estimators=50, score=0.838, total=   2.8s\n",
      "[CV]  learning_rate=0.5, max_depth=20, n_estimators=50 ...............\n",
      "[CV]   learning_rate=0.5, max_depth=20, n_estimators=50, score=0.844, total=   2.3s\n",
      "[CV]  learning_rate=0.5, max_depth=20, n_estimators=50 ...............\n",
      "[CV]   learning_rate=0.5, max_depth=20, n_estimators=50, score=0.845, total=   2.4s\n",
      "[CV]  learning_rate=0.5, max_depth=20, n_estimators=100 ..............\n",
      "[CV]   learning_rate=0.5, max_depth=20, n_estimators=100, score=0.839, total=   4.4s\n",
      "[CV]  learning_rate=0.5, max_depth=20, n_estimators=100 ..............\n",
      "[CV]   learning_rate=0.5, max_depth=20, n_estimators=100, score=0.841, total=   5.0s\n",
      "[CV]  learning_rate=0.5, max_depth=20, n_estimators=100 ..............\n",
      "[CV]   learning_rate=0.5, max_depth=20, n_estimators=100, score=0.841, total=   4.9s\n",
      "[CV]  learning_rate=0.5, max_depth=20, n_estimators=200 ..............\n",
      "[CV]   learning_rate=0.5, max_depth=20, n_estimators=200, score=0.839, total=   9.9s\n",
      "[CV]  learning_rate=0.5, max_depth=20, n_estimators=200 ..............\n",
      "[CV]   learning_rate=0.5, max_depth=20, n_estimators=200, score=0.836, total=  10.1s\n",
      "[CV]  learning_rate=0.5, max_depth=20, n_estimators=200 ..............\n",
      "[CV]   learning_rate=0.5, max_depth=20, n_estimators=200, score=0.840, total=  10.8s\n",
      "[CV]  learning_rate=0.1, max_depth=3, n_estimators=10 ................\n",
      "[CV]   learning_rate=0.1, max_depth=3, n_estimators=10, score=0.846, total=   0.2s\n",
      "[CV]  learning_rate=0.1, max_depth=3, n_estimators=10 ................\n",
      "[CV]   learning_rate=0.1, max_depth=3, n_estimators=10, score=0.855, total=   0.2s\n",
      "[CV]  learning_rate=0.1, max_depth=3, n_estimators=10 ................\n",
      "[CV]   learning_rate=0.1, max_depth=3, n_estimators=10, score=0.853, total=   0.2s\n",
      "[CV]  learning_rate=0.1, max_depth=3, n_estimators=50 ................\n",
      "[CV]   learning_rate=0.1, max_depth=3, n_estimators=50, score=0.855, total=   0.7s\n",
      "[CV]  learning_rate=0.1, max_depth=3, n_estimators=50 ................\n",
      "[CV]   learning_rate=0.1, max_depth=3, n_estimators=50, score=0.866, total=   0.8s\n",
      "[CV]  learning_rate=0.1, max_depth=3, n_estimators=50 ................\n",
      "[CV]   learning_rate=0.1, max_depth=3, n_estimators=50, score=0.859, total=   0.8s\n",
      "[CV]  learning_rate=0.1, max_depth=3, n_estimators=100 ...............\n",
      "[CV]   learning_rate=0.1, max_depth=3, n_estimators=100, score=0.858, total=   1.4s\n",
      "[CV]  learning_rate=0.1, max_depth=3, n_estimators=100 ...............\n",
      "[CV]   learning_rate=0.1, max_depth=3, n_estimators=100, score=0.867, total=   1.4s\n",
      "[CV]  learning_rate=0.1, max_depth=3, n_estimators=100 ...............\n",
      "[CV]   learning_rate=0.1, max_depth=3, n_estimators=100, score=0.861, total=   1.4s\n",
      "[CV]  learning_rate=0.1, max_depth=3, n_estimators=200 ...............\n",
      "[CV]   learning_rate=0.1, max_depth=3, n_estimators=200, score=0.858, total=   2.5s\n",
      "[CV]  learning_rate=0.1, max_depth=3, n_estimators=200 ...............\n",
      "[CV]   learning_rate=0.1, max_depth=3, n_estimators=200, score=0.863, total=   2.7s\n",
      "[CV]  learning_rate=0.1, max_depth=3, n_estimators=200 ...............\n",
      "[CV]   learning_rate=0.1, max_depth=3, n_estimators=200, score=0.856, total=   2.6s\n",
      "[CV]  learning_rate=0.1, max_depth=5, n_estimators=10 ................\n",
      "[CV]   learning_rate=0.1, max_depth=5, n_estimators=10, score=0.853, total=   0.3s\n",
      "[CV]  learning_rate=0.1, max_depth=5, n_estimators=10 ................\n",
      "[CV]   learning_rate=0.1, max_depth=5, n_estimators=10, score=0.859, total=   0.3s\n",
      "[CV]  learning_rate=0.1, max_depth=5, n_estimators=10 ................\n"
     ]
    },
    {
     "name": "stdout",
     "output_type": "stream",
     "text": [
      "[CV]   learning_rate=0.1, max_depth=5, n_estimators=10, score=0.860, total=   0.3s\n",
      "[CV]  learning_rate=0.1, max_depth=5, n_estimators=50 ................\n",
      "[CV]   learning_rate=0.1, max_depth=5, n_estimators=50, score=0.860, total=   0.9s\n",
      "[CV]  learning_rate=0.1, max_depth=5, n_estimators=50 ................\n",
      "[CV]   learning_rate=0.1, max_depth=5, n_estimators=50, score=0.857, total=   1.1s\n",
      "[CV]  learning_rate=0.1, max_depth=5, n_estimators=50 ................\n",
      "[CV]   learning_rate=0.1, max_depth=5, n_estimators=50, score=0.859, total=   1.3s\n",
      "[CV]  learning_rate=0.1, max_depth=5, n_estimators=100 ...............\n",
      "[CV]   learning_rate=0.1, max_depth=5, n_estimators=100, score=0.854, total=   2.3s\n",
      "[CV]  learning_rate=0.1, max_depth=5, n_estimators=100 ...............\n",
      "[CV]   learning_rate=0.1, max_depth=5, n_estimators=100, score=0.851, total=   2.2s\n",
      "[CV]  learning_rate=0.1, max_depth=5, n_estimators=100 ...............\n",
      "[CV]   learning_rate=0.1, max_depth=5, n_estimators=100, score=0.855, total=   2.2s\n",
      "[CV]  learning_rate=0.1, max_depth=5, n_estimators=200 ...............\n",
      "[CV]   learning_rate=0.1, max_depth=5, n_estimators=200, score=0.849, total=   4.1s\n",
      "[CV]  learning_rate=0.1, max_depth=5, n_estimators=200 ...............\n",
      "[CV]   learning_rate=0.1, max_depth=5, n_estimators=200, score=0.849, total=   3.2s\n",
      "[CV]  learning_rate=0.1, max_depth=5, n_estimators=200 ...............\n",
      "[CV]   learning_rate=0.1, max_depth=5, n_estimators=200, score=0.844, total=   3.5s\n",
      "[CV]  learning_rate=0.1, max_depth=10, n_estimators=10 ...............\n",
      "[CV]   learning_rate=0.1, max_depth=10, n_estimators=10, score=0.854, total=   0.4s\n",
      "[CV]  learning_rate=0.1, max_depth=10, n_estimators=10 ...............\n",
      "[CV]   learning_rate=0.1, max_depth=10, n_estimators=10, score=0.853, total=   0.3s\n",
      "[CV]  learning_rate=0.1, max_depth=10, n_estimators=10 ...............\n",
      "[CV]   learning_rate=0.1, max_depth=10, n_estimators=10, score=0.862, total=   0.4s\n",
      "[CV]  learning_rate=0.1, max_depth=10, n_estimators=50 ...............\n",
      "[CV]   learning_rate=0.1, max_depth=10, n_estimators=50, score=0.852, total=   1.6s\n",
      "[CV]  learning_rate=0.1, max_depth=10, n_estimators=50 ...............\n",
      "[CV]   learning_rate=0.1, max_depth=10, n_estimators=50, score=0.849, total=   1.4s\n",
      "[CV]  learning_rate=0.1, max_depth=10, n_estimators=50 ...............\n",
      "[CV]   learning_rate=0.1, max_depth=10, n_estimators=50, score=0.855, total=   1.6s\n",
      "[CV]  learning_rate=0.1, max_depth=10, n_estimators=100 ..............\n",
      "[CV]   learning_rate=0.1, max_depth=10, n_estimators=100, score=0.848, total=   3.0s\n",
      "[CV]  learning_rate=0.1, max_depth=10, n_estimators=100 ..............\n",
      "[CV]   learning_rate=0.1, max_depth=10, n_estimators=100, score=0.842, total=   2.8s\n",
      "[CV]  learning_rate=0.1, max_depth=10, n_estimators=100 ..............\n",
      "[CV]   learning_rate=0.1, max_depth=10, n_estimators=100, score=0.847, total=   2.9s\n",
      "[CV]  learning_rate=0.1, max_depth=10, n_estimators=200 ..............\n"
     ]
    }
   ],
   "source": [
    "grid.fit(train_x,train_y)"
   ]
  },
  {
   "cell_type": "code",
   "execution_count": 73,
   "metadata": {},
   "outputs": [
    {
     "data": {
      "text/plain": [
       "{' learning_rate': 1, 'max_depth': 3, 'n_estimators': 100}"
      ]
     },
     "execution_count": 73,
     "metadata": {},
     "output_type": "execute_result"
    }
   ],
   "source": [
    "# To  find the parameters givingmaximum accuracy\n",
    "grid.best_params_"
   ]
  },
  {
   "cell_type": "code",
   "execution_count": 74,
   "metadata": {},
   "outputs": [
    {
     "data": {
      "text/plain": [
       "XGBClassifier(base_score=0.5, booster=None, colsample_bylevel=1,\n",
       "              colsample_bynode=1, colsample_bytree=1, gamma=0, gpu_id=-1,\n",
       "              importance_type='gain', interaction_constraints=None,\n",
       "              learning_rate=1, max_delta_step=0, max_depth=3,\n",
       "              min_child_weight=1, missing=nan, monotone_constraints=None,\n",
       "              n_estimators=100, n_jobs=0, num_parallel_tree=1,\n",
       "              objective='binary:logistic', random_state=0, reg_alpha=0,\n",
       "              reg_lambda=1, scale_pos_weight=1, subsample=1, tree_method=None,\n",
       "              validate_parameters=False, verbosity=None)"
      ]
     },
     "execution_count": 74,
     "metadata": {},
     "output_type": "execute_result"
    }
   ],
   "source": [
    "# Create new model using the same parameters\n",
    "new_model=XGBClassifier(learning_rate= 1, max_depth= 3, n_estimators= 100)\n",
    "new_model.fit(train_x, train_y)"
   ]
  },
  {
   "cell_type": "code",
   "execution_count": 76,
   "metadata": {},
   "outputs": [
    {
     "data": {
      "text/plain": [
       "0.8536335721596725"
      ]
     },
     "execution_count": 76,
     "metadata": {},
     "output_type": "execute_result"
    }
   ],
   "source": [
    "y_pred_new = new_model.predict(test_x)\n",
    "predictions_new = [round(value) for value in y_pred_new]\n",
    "accuracy_new = accuracy_score(test_y,predictions_new)\n",
    "accuracy_new"
   ]
  }
 ],
 "metadata": {
  "kernelspec": {
   "display_name": "Python 3",
   "language": "python",
   "name": "python3"
  },
  "language_info": {
   "codemirror_mode": {
    "name": "ipython",
    "version": 3
   },
   "file_extension": ".py",
   "mimetype": "text/x-python",
   "name": "python",
   "nbconvert_exporter": "python",
   "pygments_lexer": "ipython3",
   "version": "3.7.4"
  }
 },
 "nbformat": 4,
 "nbformat_minor": 2
}
