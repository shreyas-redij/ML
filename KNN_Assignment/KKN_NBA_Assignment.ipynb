{
 "cells": [
  {
   "cell_type": "markdown",
   "metadata": {},
   "source": [
    "In this assignment, students will be using the K-nearest neighbors\n",
    "\n",
    "algorithm to predict how many points NBA players scored in the 2013-2014\n",
    "season.\n",
    "\n",
    "A look at the data\n",
    "Before we dive into the algorithm, let’s take a look at our data. Each row in\n",
    "the data contains information on how a player performed in the 2013-2014\n",
    "NBA season.\n",
    "\n",
    "Download 'nba_2013.csv' file from this link:\n",
    "https://www.dropbox.com/s/b3nv38jjo5dxcl6/nba_2013.csv?dl=0\n",
    "\n",
    "\n",
    "Here are some selected columns from the data:\n",
    "\n",
    "player - name of the player\n",
    "\n",
    "pos - the position of the player\n",
    "\n",
    "g - number of games the player was in\n",
    "\n",
    "gs - number of games the player started\n",
    "\n",
    "pts - total points the player scored\n",
    "\n",
    "There are many more columns in the data, mostly containing information\n",
    "about average player game performance over the course of the season.\n",
    "See this site for an explanation of the rest of them.\n",
    "We can read our dataset in and figure out which columns are present:\n",
    "\n",
    "import pandas\n",
    "\n",
    "with open(\"nba_2013.csv\", 'r') as csvfile:\n",
    "\n",
    "nba = pandas.read_csv(csvfile)"
   ]
  },
  {
   "cell_type": "code",
   "execution_count": 198,
   "metadata": {},
   "outputs": [],
   "source": [
    "# Importing to required libraires\n",
    "import pandas as pd\n",
    "import numpy as np\n",
    "from sklearn.neighbors import KNeighborsClassifier\n",
    "#Let's start with importing necessary libraries\n",
    "from sklearn.preprocessing import StandardScaler \n",
    "from sklearn.model_selection import train_test_split, GridSearchCV\n",
    "from sklearn.model_selection import KFold\n",
    "from statsmodels.stats.outliers_influence import variance_inflation_factor \n",
    "from sklearn.metrics import accuracy_score, confusion_matrix, roc_curve, roc_auc_score\n",
    "import matplotlib.pyplot as plt\n",
    "import seaborn as sns\n",
    "sns.set()"
   ]
  },
  {
   "cell_type": "code",
   "execution_count": 199,
   "metadata": {},
   "outputs": [
    {
     "data": {
      "text/html": [
       "<div>\n",
       "<style scoped>\n",
       "    .dataframe tbody tr th:only-of-type {\n",
       "        vertical-align: middle;\n",
       "    }\n",
       "\n",
       "    .dataframe tbody tr th {\n",
       "        vertical-align: top;\n",
       "    }\n",
       "\n",
       "    .dataframe thead th {\n",
       "        text-align: right;\n",
       "    }\n",
       "</style>\n",
       "<table border=\"1\" class=\"dataframe\">\n",
       "  <thead>\n",
       "    <tr style=\"text-align: right;\">\n",
       "      <th></th>\n",
       "      <th>player</th>\n",
       "      <th>pos</th>\n",
       "      <th>age</th>\n",
       "      <th>bref_team_id</th>\n",
       "      <th>g</th>\n",
       "      <th>gs</th>\n",
       "      <th>mp</th>\n",
       "      <th>fg</th>\n",
       "      <th>fga</th>\n",
       "      <th>fg.</th>\n",
       "      <th>...</th>\n",
       "      <th>drb</th>\n",
       "      <th>trb</th>\n",
       "      <th>ast</th>\n",
       "      <th>stl</th>\n",
       "      <th>blk</th>\n",
       "      <th>tov</th>\n",
       "      <th>pf</th>\n",
       "      <th>pts</th>\n",
       "      <th>season</th>\n",
       "      <th>season_end</th>\n",
       "    </tr>\n",
       "  </thead>\n",
       "  <tbody>\n",
       "    <tr>\n",
       "      <td>0</td>\n",
       "      <td>Quincy Acy</td>\n",
       "      <td>SF</td>\n",
       "      <td>23</td>\n",
       "      <td>TOT</td>\n",
       "      <td>63</td>\n",
       "      <td>0</td>\n",
       "      <td>847</td>\n",
       "      <td>66</td>\n",
       "      <td>141</td>\n",
       "      <td>0.468</td>\n",
       "      <td>...</td>\n",
       "      <td>144</td>\n",
       "      <td>216</td>\n",
       "      <td>28</td>\n",
       "      <td>23</td>\n",
       "      <td>26</td>\n",
       "      <td>30</td>\n",
       "      <td>122</td>\n",
       "      <td>171</td>\n",
       "      <td>2013-2014</td>\n",
       "      <td>2013</td>\n",
       "    </tr>\n",
       "    <tr>\n",
       "      <td>1</td>\n",
       "      <td>Steven Adams</td>\n",
       "      <td>C</td>\n",
       "      <td>20</td>\n",
       "      <td>OKC</td>\n",
       "      <td>81</td>\n",
       "      <td>20</td>\n",
       "      <td>1197</td>\n",
       "      <td>93</td>\n",
       "      <td>185</td>\n",
       "      <td>0.503</td>\n",
       "      <td>...</td>\n",
       "      <td>190</td>\n",
       "      <td>332</td>\n",
       "      <td>43</td>\n",
       "      <td>40</td>\n",
       "      <td>57</td>\n",
       "      <td>71</td>\n",
       "      <td>203</td>\n",
       "      <td>265</td>\n",
       "      <td>2013-2014</td>\n",
       "      <td>2013</td>\n",
       "    </tr>\n",
       "    <tr>\n",
       "      <td>2</td>\n",
       "      <td>Jeff Adrien</td>\n",
       "      <td>PF</td>\n",
       "      <td>27</td>\n",
       "      <td>TOT</td>\n",
       "      <td>53</td>\n",
       "      <td>12</td>\n",
       "      <td>961</td>\n",
       "      <td>143</td>\n",
       "      <td>275</td>\n",
       "      <td>0.520</td>\n",
       "      <td>...</td>\n",
       "      <td>204</td>\n",
       "      <td>306</td>\n",
       "      <td>38</td>\n",
       "      <td>24</td>\n",
       "      <td>36</td>\n",
       "      <td>39</td>\n",
       "      <td>108</td>\n",
       "      <td>362</td>\n",
       "      <td>2013-2014</td>\n",
       "      <td>2013</td>\n",
       "    </tr>\n",
       "    <tr>\n",
       "      <td>3</td>\n",
       "      <td>Arron Afflalo</td>\n",
       "      <td>SG</td>\n",
       "      <td>28</td>\n",
       "      <td>ORL</td>\n",
       "      <td>73</td>\n",
       "      <td>73</td>\n",
       "      <td>2552</td>\n",
       "      <td>464</td>\n",
       "      <td>1011</td>\n",
       "      <td>0.459</td>\n",
       "      <td>...</td>\n",
       "      <td>230</td>\n",
       "      <td>262</td>\n",
       "      <td>248</td>\n",
       "      <td>35</td>\n",
       "      <td>3</td>\n",
       "      <td>146</td>\n",
       "      <td>136</td>\n",
       "      <td>1330</td>\n",
       "      <td>2013-2014</td>\n",
       "      <td>2013</td>\n",
       "    </tr>\n",
       "    <tr>\n",
       "      <td>4</td>\n",
       "      <td>Alexis Ajinca</td>\n",
       "      <td>C</td>\n",
       "      <td>25</td>\n",
       "      <td>NOP</td>\n",
       "      <td>56</td>\n",
       "      <td>30</td>\n",
       "      <td>951</td>\n",
       "      <td>136</td>\n",
       "      <td>249</td>\n",
       "      <td>0.546</td>\n",
       "      <td>...</td>\n",
       "      <td>183</td>\n",
       "      <td>277</td>\n",
       "      <td>40</td>\n",
       "      <td>23</td>\n",
       "      <td>46</td>\n",
       "      <td>63</td>\n",
       "      <td>187</td>\n",
       "      <td>328</td>\n",
       "      <td>2013-2014</td>\n",
       "      <td>2013</td>\n",
       "    </tr>\n",
       "  </tbody>\n",
       "</table>\n",
       "<p>5 rows × 31 columns</p>\n",
       "</div>"
      ],
      "text/plain": [
       "          player pos  age bref_team_id   g  gs    mp   fg   fga    fg.  ...  \\\n",
       "0     Quincy Acy  SF   23          TOT  63   0   847   66   141  0.468  ...   \n",
       "1   Steven Adams   C   20          OKC  81  20  1197   93   185  0.503  ...   \n",
       "2    Jeff Adrien  PF   27          TOT  53  12   961  143   275  0.520  ...   \n",
       "3  Arron Afflalo  SG   28          ORL  73  73  2552  464  1011  0.459  ...   \n",
       "4  Alexis Ajinca   C   25          NOP  56  30   951  136   249  0.546  ...   \n",
       "\n",
       "   drb  trb  ast  stl  blk  tov   pf   pts     season  season_end  \n",
       "0  144  216   28   23   26   30  122   171  2013-2014        2013  \n",
       "1  190  332   43   40   57   71  203   265  2013-2014        2013  \n",
       "2  204  306   38   24   36   39  108   362  2013-2014        2013  \n",
       "3  230  262  248   35    3  146  136  1330  2013-2014        2013  \n",
       "4  183  277   40   23   46   63  187   328  2013-2014        2013  \n",
       "\n",
       "[5 rows x 31 columns]"
      ]
     },
     "execution_count": 199,
     "metadata": {},
     "output_type": "execute_result"
    }
   ],
   "source": [
    "data = pd.read_csv(\"nba_2013.csv\") # Reading the Data\n",
    "data.head()"
   ]
  },
  {
   "cell_type": "code",
   "execution_count": 200,
   "metadata": {},
   "outputs": [
    {
     "data": {
      "text/plain": [
       "Index(['player', 'pos', 'age', 'bref_team_id', 'g', 'gs', 'mp', 'fg', 'fga',\n",
       "       'fg.', 'x3p', 'x3pa', 'x3p.', 'x2p', 'x2pa', 'x2p.', 'efg.', 'ft',\n",
       "       'fta', 'ft.', 'orb', 'drb', 'trb', 'ast', 'stl', 'blk', 'tov', 'pf',\n",
       "       'pts', 'season', 'season_end'],\n",
       "      dtype='object')"
      ]
     },
     "execution_count": 200,
     "metadata": {},
     "output_type": "execute_result"
    }
   ],
   "source": [
    "data.columns"
   ]
  },
  {
   "cell_type": "code",
   "execution_count": 201,
   "metadata": {},
   "outputs": [
    {
     "data": {
      "text/plain": [
       "player           object\n",
       "pos              object\n",
       "age               int64\n",
       "bref_team_id     object\n",
       "g                 int64\n",
       "gs                int64\n",
       "mp                int64\n",
       "fg                int64\n",
       "fga               int64\n",
       "fg.             float64\n",
       "x3p               int64\n",
       "x3pa              int64\n",
       "x3p.            float64\n",
       "x2p               int64\n",
       "x2pa              int64\n",
       "x2p.            float64\n",
       "efg.            float64\n",
       "ft                int64\n",
       "fta               int64\n",
       "ft.             float64\n",
       "orb               int64\n",
       "drb               int64\n",
       "trb               int64\n",
       "ast               int64\n",
       "stl               int64\n",
       "blk               int64\n",
       "tov               int64\n",
       "pf                int64\n",
       "pts               int64\n",
       "season           object\n",
       "season_end        int64\n",
       "dtype: object"
      ]
     },
     "execution_count": 201,
     "metadata": {},
     "output_type": "execute_result"
    }
   ],
   "source": [
    "data.dtypes"
   ]
  },
  {
   "cell_type": "code",
   "execution_count": 202,
   "metadata": {},
   "outputs": [
    {
     "data": {
      "text/plain": [
       "player           0\n",
       "pos              0\n",
       "age              0\n",
       "bref_team_id     0\n",
       "g                0\n",
       "gs               0\n",
       "mp               0\n",
       "fg               0\n",
       "fga              0\n",
       "fg.              2\n",
       "x3p              0\n",
       "x3pa             0\n",
       "x3p.            67\n",
       "x2p              0\n",
       "x2pa             0\n",
       "x2p.             3\n",
       "efg.             2\n",
       "ft               0\n",
       "fta              0\n",
       "ft.             20\n",
       "orb              0\n",
       "drb              0\n",
       "trb              0\n",
       "ast              0\n",
       "stl              0\n",
       "blk              0\n",
       "tov              0\n",
       "pf               0\n",
       "pts              0\n",
       "season           0\n",
       "season_end       0\n",
       "dtype: int64"
      ]
     },
     "execution_count": 202,
     "metadata": {},
     "output_type": "execute_result"
    }
   ],
   "source": [
    "# Checking for Null Values\n",
    "data.isnull().sum()"
   ]
  },
  {
   "cell_type": "code",
   "execution_count": 203,
   "metadata": {},
   "outputs": [
    {
     "data": {
      "text/plain": [
       "(481, 31)"
      ]
     },
     "execution_count": 203,
     "metadata": {},
     "output_type": "execute_result"
    }
   ],
   "source": [
    "data.shape"
   ]
  },
  {
   "cell_type": "code",
   "execution_count": 204,
   "metadata": {},
   "outputs": [
    {
     "name": "stdout",
     "output_type": "stream",
     "text": [
      "player\n",
      "pos\n",
      "age\n",
      "bref_team_id\n",
      "g\n",
      "gs\n",
      "mp\n",
      "fg\n",
      "fga\n",
      "fg.\n",
      "x3p\n",
      "x3pa\n",
      "x3p.\n",
      "x2p\n",
      "x2pa\n",
      "x2p.\n",
      "efg.\n",
      "ft\n",
      "fta\n",
      "ft.\n",
      "orb\n",
      "drb\n",
      "trb\n",
      "ast\n",
      "stl\n",
      "blk\n",
      "tov\n",
      "pf\n",
      "pts\n",
      "season\n",
      "season_end\n"
     ]
    }
   ],
   "source": [
    "for column in data:\n",
    "    print(column)"
   ]
  },
  {
   "cell_type": "code",
   "execution_count": 205,
   "metadata": {},
   "outputs": [],
   "source": [
    "\n",
    "\n",
    "data['fg.'].fillna((data['fg.'].mean()), inplace=True)\n",
    "data['x3p.'].fillna((data['x3p.'].mean()), inplace=True)\n",
    "data['ft.'].fillna((data['ft.'].mean()), inplace=True)\n",
    "\n"
   ]
  },
  {
   "cell_type": "code",
   "execution_count": 206,
   "metadata": {},
   "outputs": [],
   "source": [
    "data['x2p.'].fillna((data['x2p.'].mean()), inplace=True)\n",
    "data['efg.'].fillna((data['efg.'].mean()), inplace=True)"
   ]
  },
  {
   "cell_type": "code",
   "execution_count": 207,
   "metadata": {},
   "outputs": [
    {
     "data": {
      "text/plain": [
       "player          0\n",
       "pos             0\n",
       "age             0\n",
       "bref_team_id    0\n",
       "g               0\n",
       "gs              0\n",
       "mp              0\n",
       "fg              0\n",
       "fga             0\n",
       "fg.             0\n",
       "x3p             0\n",
       "x3pa            0\n",
       "x3p.            0\n",
       "x2p             0\n",
       "x2pa            0\n",
       "x2p.            0\n",
       "efg.            0\n",
       "ft              0\n",
       "fta             0\n",
       "ft.             0\n",
       "orb             0\n",
       "drb             0\n",
       "trb             0\n",
       "ast             0\n",
       "stl             0\n",
       "blk             0\n",
       "tov             0\n",
       "pf              0\n",
       "pts             0\n",
       "season          0\n",
       "season_end      0\n",
       "dtype: int64"
      ]
     },
     "execution_count": 207,
     "metadata": {},
     "output_type": "execute_result"
    }
   ],
   "source": [
    "data.isnull().sum()"
   ]
  },
  {
   "cell_type": "code",
   "execution_count": 208,
   "metadata": {},
   "outputs": [],
   "source": [
    "X = data.drop(['player', 'pos','pts','bref_team_id','season'], axis=1)"
   ]
  },
  {
   "cell_type": "code",
   "execution_count": 209,
   "metadata": {},
   "outputs": [],
   "source": [
    "\n",
    "y = data['pts']"
   ]
  },
  {
   "cell_type": "code",
   "execution_count": 210,
   "metadata": {},
   "outputs": [
    {
     "data": {
      "text/plain": [
       "array([[-0.83677633,  0.3852869 , -0.86310432, ..., -0.66834514,\n",
       "         0.22675114,  0.        ],\n",
       "       [-1.55210112,  1.09685132, -0.1880585 , ..., -0.0137745 ,\n",
       "         1.36535809,  0.        ],\n",
       "       [ 0.11699006, -0.01002666, -0.45807683, ..., -0.5246589 ,\n",
       "         0.02995488,  0.        ],\n",
       "       ...,\n",
       "       [-0.35989314,  1.01778861,  1.76957436, ...,  1.48694846,\n",
       "         1.50592685,  0.        ],\n",
       "       [-1.31365952,  1.13638268, -0.76184744, ...,  0.24166771,\n",
       "         0.90148119,  0.        ],\n",
       "       [-0.59833473,  0.6620064 , -0.5593337 , ..., -0.18939101,\n",
       "         0.43760428,  0.        ]])"
      ]
     },
     "execution_count": 210,
     "metadata": {},
     "output_type": "execute_result"
    }
   ],
   "source": [
    "# Scaling the required data\n",
    "from sklearn.preprocessing import StandardScaler\n",
    "scaler=StandardScaler()\n",
    "scaled_data=scaler.fit_transform(X)\n",
    "scaled_data"
   ]
  },
  {
   "cell_type": "code",
   "execution_count": 211,
   "metadata": {},
   "outputs": [],
   "source": [
    "df=pd.DataFrame(data=scaled_data, columns= X.columns)"
   ]
  },
  {
   "cell_type": "code",
   "execution_count": 212,
   "metadata": {},
   "outputs": [
    {
     "data": {
      "text/html": [
       "<div>\n",
       "<style scoped>\n",
       "    .dataframe tbody tr th:only-of-type {\n",
       "        vertical-align: middle;\n",
       "    }\n",
       "\n",
       "    .dataframe tbody tr th {\n",
       "        vertical-align: top;\n",
       "    }\n",
       "\n",
       "    .dataframe thead th {\n",
       "        text-align: right;\n",
       "    }\n",
       "</style>\n",
       "<table border=\"1\" class=\"dataframe\">\n",
       "  <thead>\n",
       "    <tr style=\"text-align: right;\">\n",
       "      <th></th>\n",
       "      <th>age</th>\n",
       "      <th>g</th>\n",
       "      <th>gs</th>\n",
       "      <th>mp</th>\n",
       "      <th>fg</th>\n",
       "      <th>fga</th>\n",
       "      <th>fg.</th>\n",
       "      <th>x3p</th>\n",
       "      <th>x3pa</th>\n",
       "      <th>x3p.</th>\n",
       "      <th>...</th>\n",
       "      <th>ft.</th>\n",
       "      <th>orb</th>\n",
       "      <th>drb</th>\n",
       "      <th>trb</th>\n",
       "      <th>ast</th>\n",
       "      <th>stl</th>\n",
       "      <th>blk</th>\n",
       "      <th>tov</th>\n",
       "      <th>pf</th>\n",
       "      <th>season_end</th>\n",
       "    </tr>\n",
       "  </thead>\n",
       "  <tbody>\n",
       "    <tr>\n",
       "      <td>count</td>\n",
       "      <td>4.810000e+02</td>\n",
       "      <td>4.810000e+02</td>\n",
       "      <td>4.810000e+02</td>\n",
       "      <td>4.810000e+02</td>\n",
       "      <td>4.810000e+02</td>\n",
       "      <td>4.810000e+02</td>\n",
       "      <td>4.810000e+02</td>\n",
       "      <td>4.810000e+02</td>\n",
       "      <td>4.810000e+02</td>\n",
       "      <td>4.810000e+02</td>\n",
       "      <td>...</td>\n",
       "      <td>4.810000e+02</td>\n",
       "      <td>4.810000e+02</td>\n",
       "      <td>4.810000e+02</td>\n",
       "      <td>4.810000e+02</td>\n",
       "      <td>4.810000e+02</td>\n",
       "      <td>4.810000e+02</td>\n",
       "      <td>4.810000e+02</td>\n",
       "      <td>4.810000e+02</td>\n",
       "      <td>4.810000e+02</td>\n",
       "      <td>481.0</td>\n",
       "    </tr>\n",
       "    <tr>\n",
       "      <td>mean</td>\n",
       "      <td>2.612833e-16</td>\n",
       "      <td>1.394126e-16</td>\n",
       "      <td>4.800964e-17</td>\n",
       "      <td>-4.852898e-17</td>\n",
       "      <td>7.518818e-17</td>\n",
       "      <td>-4.085436e-17</td>\n",
       "      <td>-1.588011e-16</td>\n",
       "      <td>-5.216433e-17</td>\n",
       "      <td>-1.938851e-17</td>\n",
       "      <td>1.320265e-16</td>\n",
       "      <td>...</td>\n",
       "      <td>-3.157846e-16</td>\n",
       "      <td>-7.039876e-17</td>\n",
       "      <td>8.494014e-17</td>\n",
       "      <td>1.171389e-16</td>\n",
       "      <td>4.200844e-17</td>\n",
       "      <td>-2.400482e-17</td>\n",
       "      <td>2.839032e-17</td>\n",
       "      <td>8.032383e-17</td>\n",
       "      <td>-1.915769e-17</td>\n",
       "      <td>0.0</td>\n",
       "    </tr>\n",
       "    <tr>\n",
       "      <td>std</td>\n",
       "      <td>1.001041e+00</td>\n",
       "      <td>1.001041e+00</td>\n",
       "      <td>1.001041e+00</td>\n",
       "      <td>1.001041e+00</td>\n",
       "      <td>1.001041e+00</td>\n",
       "      <td>1.001041e+00</td>\n",
       "      <td>1.001041e+00</td>\n",
       "      <td>1.001041e+00</td>\n",
       "      <td>1.001041e+00</td>\n",
       "      <td>1.001041e+00</td>\n",
       "      <td>...</td>\n",
       "      <td>1.001041e+00</td>\n",
       "      <td>1.001041e+00</td>\n",
       "      <td>1.001041e+00</td>\n",
       "      <td>1.001041e+00</td>\n",
       "      <td>1.001041e+00</td>\n",
       "      <td>1.001041e+00</td>\n",
       "      <td>1.001041e+00</td>\n",
       "      <td>1.001041e+00</td>\n",
       "      <td>1.001041e+00</td>\n",
       "      <td>0.0</td>\n",
       "    </tr>\n",
       "    <tr>\n",
       "      <td>min</td>\n",
       "      <td>-1.790543e+00</td>\n",
       "      <td>-2.065657e+00</td>\n",
       "      <td>-8.631043e-01</td>\n",
       "      <td>-1.379395e+00</td>\n",
       "      <td>-1.123664e+00</td>\n",
       "      <td>-1.151971e+00</td>\n",
       "      <td>-4.436945e+00</td>\n",
       "      <td>-7.797473e-01</td>\n",
       "      <td>-8.304648e-01</td>\n",
       "      <td>-1.951934e+00</td>\n",
       "      <td>...</td>\n",
       "      <td>-4.612239e+00</td>\n",
       "      <td>-8.996432e-01</td>\n",
       "      <td>-1.121353e+00</td>\n",
       "      <td>-1.092330e+00</td>\n",
       "      <td>-8.598224e-01</td>\n",
       "      <td>-1.130463e+00</td>\n",
       "      <td>-7.814979e-01</td>\n",
       "      <td>-1.147299e+00</td>\n",
       "      <td>-1.488188e+00</td>\n",
       "      <td>0.0</td>\n",
       "    </tr>\n",
       "    <tr>\n",
       "      <td>25%</td>\n",
       "      <td>-8.367763e-01</td>\n",
       "      <td>-8.401852e-01</td>\n",
       "      <td>-8.631043e-01</td>\n",
       "      <td>-9.476318e-01</td>\n",
       "      <td>-8.498574e-01</td>\n",
       "      <td>-8.534372e-01</td>\n",
       "      <td>-3.602565e-01</td>\n",
       "      <td>-7.797473e-01</td>\n",
       "      <td>-8.078427e-01</td>\n",
       "      <td>-1.539367e-01</td>\n",
       "      <td>...</td>\n",
       "      <td>-4.176615e-01</td>\n",
       "      <td>-7.062091e-01</td>\n",
       "      <td>-8.252036e-01</td>\n",
       "      <td>-8.175338e-01</td>\n",
       "      <td>-7.070145e-01</td>\n",
       "      <td>-8.714509e-01</td>\n",
       "      <td>-6.518100e-01</td>\n",
       "      <td>-8.120314e-01</td>\n",
       "      <td>-8.696852e-01</td>\n",
       "      <td>0.0</td>\n",
       "    </tr>\n",
       "    <tr>\n",
       "      <td>50%</td>\n",
       "      <td>-1.214515e-01</td>\n",
       "      <td>3.062242e-01</td>\n",
       "      <td>-5.255814e-01</td>\n",
       "      <td>-1.075354e-01</td>\n",
       "      <td>-2.731161e-01</td>\n",
       "      <td>-2.509412e-01</td>\n",
       "      <td>5.730486e-03</td>\n",
       "      <td>-4.648037e-01</td>\n",
       "      <td>-4.685111e-01</td>\n",
       "      <td>2.019330e-01</td>\n",
       "      <td>...</td>\n",
       "      <td>1.760915e-01</td>\n",
       "      <td>-3.354602e-01</td>\n",
       "      <td>-1.915815e-01</td>\n",
       "      <td>-2.529519e-01</td>\n",
       "      <td>-3.631967e-01</td>\n",
       "      <td>-2.095311e-01</td>\n",
       "      <td>-3.275901e-01</td>\n",
       "      <td>-2.213213e-01</td>\n",
       "      <td>-2.627262e-02</td>\n",
       "      <td>0.0</td>\n",
       "    </tr>\n",
       "    <tr>\n",
       "      <td>75%</td>\n",
       "      <td>5.938732e-01</td>\n",
       "      <td>8.991945e-01</td>\n",
       "      <td>9.595194e-01</td>\n",
       "      <td>8.686723e-01</td>\n",
       "      <td>6.648167e-01</td>\n",
       "      <td>6.718003e-01</td>\n",
       "      <td>4.327153e-01</td>\n",
       "      <td>5.587630e-01</td>\n",
       "      <td>6.248905e-01</td>\n",
       "      <td>5.569292e-01</td>\n",
       "      <td>...</td>\n",
       "      <td>5.974645e-01</td>\n",
       "      <td>2.770814e-01</td>\n",
       "      <td>4.627022e-01</td>\n",
       "      <td>4.565226e-01</td>\n",
       "      <td>3.015176e-01</td>\n",
       "      <td>5.962842e-01</td>\n",
       "      <td>2.560056e-01</td>\n",
       "      <td>5.769356e-01</td>\n",
       "      <td>7.327987e-01</td>\n",
       "      <td>0.0</td>\n",
       "    </tr>\n",
       "    <tr>\n",
       "      <td>max</td>\n",
       "      <td>2.978289e+00</td>\n",
       "      <td>1.175914e+00</td>\n",
       "      <td>1.904584e+00</td>\n",
       "      <td>2.102599e+00</td>\n",
       "      <td>3.822330e+00</td>\n",
       "      <td>3.429169e+00</td>\n",
       "      <td>5.729361e+00</td>\n",
       "      <td>4.357770e+00</td>\n",
       "      <td>3.807066e+00</td>\n",
       "      <td>4.894285e+00</td>\n",
       "      <td>...</td>\n",
       "      <td>1.772202e+00</td>\n",
       "      <td>6.192944e+00</td>\n",
       "      <td>4.271322e+00</td>\n",
       "      <td>4.473547e+00</td>\n",
       "      <td>4.648902e+00</td>\n",
       "      <td>4.366349e+00</td>\n",
       "      <td>6.318917e+00</td>\n",
       "      <td>3.562416e+00</td>\n",
       "      <td>2.349339e+00</td>\n",
       "      <td>0.0</td>\n",
       "    </tr>\n",
       "  </tbody>\n",
       "</table>\n",
       "<p>8 rows × 26 columns</p>\n",
       "</div>"
      ],
      "text/plain": [
       "                age             g            gs            mp            fg  \\\n",
       "count  4.810000e+02  4.810000e+02  4.810000e+02  4.810000e+02  4.810000e+02   \n",
       "mean   2.612833e-16  1.394126e-16  4.800964e-17 -4.852898e-17  7.518818e-17   \n",
       "std    1.001041e+00  1.001041e+00  1.001041e+00  1.001041e+00  1.001041e+00   \n",
       "min   -1.790543e+00 -2.065657e+00 -8.631043e-01 -1.379395e+00 -1.123664e+00   \n",
       "25%   -8.367763e-01 -8.401852e-01 -8.631043e-01 -9.476318e-01 -8.498574e-01   \n",
       "50%   -1.214515e-01  3.062242e-01 -5.255814e-01 -1.075354e-01 -2.731161e-01   \n",
       "75%    5.938732e-01  8.991945e-01  9.595194e-01  8.686723e-01  6.648167e-01   \n",
       "max    2.978289e+00  1.175914e+00  1.904584e+00  2.102599e+00  3.822330e+00   \n",
       "\n",
       "                fga           fg.           x3p          x3pa          x3p.  \\\n",
       "count  4.810000e+02  4.810000e+02  4.810000e+02  4.810000e+02  4.810000e+02   \n",
       "mean  -4.085436e-17 -1.588011e-16 -5.216433e-17 -1.938851e-17  1.320265e-16   \n",
       "std    1.001041e+00  1.001041e+00  1.001041e+00  1.001041e+00  1.001041e+00   \n",
       "min   -1.151971e+00 -4.436945e+00 -7.797473e-01 -8.304648e-01 -1.951934e+00   \n",
       "25%   -8.534372e-01 -3.602565e-01 -7.797473e-01 -8.078427e-01 -1.539367e-01   \n",
       "50%   -2.509412e-01  5.730486e-03 -4.648037e-01 -4.685111e-01  2.019330e-01   \n",
       "75%    6.718003e-01  4.327153e-01  5.587630e-01  6.248905e-01  5.569292e-01   \n",
       "max    3.429169e+00  5.729361e+00  4.357770e+00  3.807066e+00  4.894285e+00   \n",
       "\n",
       "       ...           ft.           orb           drb           trb  \\\n",
       "count  ...  4.810000e+02  4.810000e+02  4.810000e+02  4.810000e+02   \n",
       "mean   ... -3.157846e-16 -7.039876e-17  8.494014e-17  1.171389e-16   \n",
       "std    ...  1.001041e+00  1.001041e+00  1.001041e+00  1.001041e+00   \n",
       "min    ... -4.612239e+00 -8.996432e-01 -1.121353e+00 -1.092330e+00   \n",
       "25%    ... -4.176615e-01 -7.062091e-01 -8.252036e-01 -8.175338e-01   \n",
       "50%    ...  1.760915e-01 -3.354602e-01 -1.915815e-01 -2.529519e-01   \n",
       "75%    ...  5.974645e-01  2.770814e-01  4.627022e-01  4.565226e-01   \n",
       "max    ...  1.772202e+00  6.192944e+00  4.271322e+00  4.473547e+00   \n",
       "\n",
       "                ast           stl           blk           tov            pf  \\\n",
       "count  4.810000e+02  4.810000e+02  4.810000e+02  4.810000e+02  4.810000e+02   \n",
       "mean   4.200844e-17 -2.400482e-17  2.839032e-17  8.032383e-17 -1.915769e-17   \n",
       "std    1.001041e+00  1.001041e+00  1.001041e+00  1.001041e+00  1.001041e+00   \n",
       "min   -8.598224e-01 -1.130463e+00 -7.814979e-01 -1.147299e+00 -1.488188e+00   \n",
       "25%   -7.070145e-01 -8.714509e-01 -6.518100e-01 -8.120314e-01 -8.696852e-01   \n",
       "50%   -3.631967e-01 -2.095311e-01 -3.275901e-01 -2.213213e-01 -2.627262e-02   \n",
       "75%    3.015176e-01  5.962842e-01  2.560056e-01  5.769356e-01  7.327987e-01   \n",
       "max    4.648902e+00  4.366349e+00  6.318917e+00  3.562416e+00  2.349339e+00   \n",
       "\n",
       "       season_end  \n",
       "count       481.0  \n",
       "mean          0.0  \n",
       "std           0.0  \n",
       "min           0.0  \n",
       "25%           0.0  \n",
       "50%           0.0  \n",
       "75%           0.0  \n",
       "max           0.0  \n",
       "\n",
       "[8 rows x 26 columns]"
      ]
     },
     "execution_count": 212,
     "metadata": {},
     "output_type": "execute_result"
    }
   ],
   "source": [
    "df.describe()"
   ]
  },
  {
   "cell_type": "code",
   "execution_count": 213,
   "metadata": {},
   "outputs": [
    {
     "data": {
      "image/png": "[encoded data removed]",
      "text/plain": [
       "<Figure size 432x288 with 1 Axes>"
      ]
     },
     "metadata": {},
     "output_type": "display_data"
    }
   ],
   "source": [
    "from sklearn.decomposition import PCA\n",
    "pca = PCA()\n",
    "principalComponents = pca.fit_transform(df)\n",
    "plt.figure()\n",
    "plt.plot(np.cumsum(pca.explained_variance_ratio_))\n",
    "plt.xlabel('Number of Components')\n",
    "plt.ylabel('Variance (%)') #for each component\n",
    "plt.title('Explained Variance')\n",
    "plt.show()"
   ]
  },
  {
   "cell_type": "markdown",
   "metadata": {},
   "source": [
    "From the diagram above, it can be seen that 8 principal components explain almost 90% of the variance in data \n",
    "So, instead of giving all the columns as input, we’d only feed these 8 principal components of the data to the machine learning algorithm and we’d obtain a similar result."
   ]
  },
  {
   "cell_type": "code",
   "execution_count": 214,
   "metadata": {},
   "outputs": [],
   "source": [
    "pca = PCA(n_components=8)\n",
    "new_data = pca.fit_transform(df)\n",
    "# This will be the new data fed to the algorithm.\n",
    "principal_Df = pd.DataFrame(data = new_data\n",
    "             , columns = ['principal component 1', 'principal component 2','principal component 3','principal component 4',\n",
    "                          'principal component 5', 'principal component 6','principal component 7','principal component 8'\n",
    "                         ])"
   ]
  },
  {
   "cell_type": "code",
   "execution_count": 215,
   "metadata": {},
   "outputs": [
    {
     "data": {
      "text/html": [
       "<div>\n",
       "<style scoped>\n",
       "    .dataframe tbody tr th:only-of-type {\n",
       "        vertical-align: middle;\n",
       "    }\n",
       "\n",
       "    .dataframe tbody tr th {\n",
       "        vertical-align: top;\n",
       "    }\n",
       "\n",
       "    .dataframe thead th {\n",
       "        text-align: right;\n",
       "    }\n",
       "</style>\n",
       "<table border=\"1\" class=\"dataframe\">\n",
       "  <thead>\n",
       "    <tr style=\"text-align: right;\">\n",
       "      <th></th>\n",
       "      <th>principal component 1</th>\n",
       "      <th>principal component 2</th>\n",
       "      <th>principal component 3</th>\n",
       "      <th>principal component 4</th>\n",
       "      <th>principal component 5</th>\n",
       "      <th>principal component 6</th>\n",
       "      <th>principal component 7</th>\n",
       "      <th>principal component 8</th>\n",
       "    </tr>\n",
       "  </thead>\n",
       "  <tbody>\n",
       "    <tr>\n",
       "      <td>0</td>\n",
       "      <td>-1.707731</td>\n",
       "      <td>1.349221</td>\n",
       "      <td>0.137698</td>\n",
       "      <td>-0.548748</td>\n",
       "      <td>-0.955775</td>\n",
       "      <td>0.103595</td>\n",
       "      <td>-0.365214</td>\n",
       "      <td>0.441886</td>\n",
       "    </tr>\n",
       "    <tr>\n",
       "      <td>1</td>\n",
       "      <td>0.273633</td>\n",
       "      <td>2.410122</td>\n",
       "      <td>-0.228039</td>\n",
       "      <td>-0.936526</td>\n",
       "      <td>-1.857204</td>\n",
       "      <td>0.597322</td>\n",
       "      <td>-0.304870</td>\n",
       "      <td>0.866645</td>\n",
       "    </tr>\n",
       "    <tr>\n",
       "      <td>2</td>\n",
       "      <td>-0.555592</td>\n",
       "      <td>2.027820</td>\n",
       "      <td>0.297856</td>\n",
       "      <td>0.100243</td>\n",
       "      <td>-0.109473</td>\n",
       "      <td>0.025601</td>\n",
       "      <td>0.448118</td>\n",
       "      <td>0.104363</td>\n",
       "    </tr>\n",
       "    <tr>\n",
       "      <td>3</td>\n",
       "      <td>4.394457</td>\n",
       "      <td>-2.323870</td>\n",
       "      <td>0.685729</td>\n",
       "      <td>-0.083979</td>\n",
       "      <td>0.887427</td>\n",
       "      <td>-0.113303</td>\n",
       "      <td>0.804242</td>\n",
       "      <td>-1.081320</td>\n",
       "    </tr>\n",
       "    <tr>\n",
       "      <td>4</td>\n",
       "      <td>-0.154291</td>\n",
       "      <td>2.590255</td>\n",
       "      <td>0.319270</td>\n",
       "      <td>-0.263483</td>\n",
       "      <td>-0.000289</td>\n",
       "      <td>-0.923121</td>\n",
       "      <td>-1.659641</td>\n",
       "      <td>0.089752</td>\n",
       "    </tr>\n",
       "  </tbody>\n",
       "</table>\n",
       "</div>"
      ],
      "text/plain": [
       "   principal component 1  principal component 2  principal component 3  \\\n",
       "0              -1.707731               1.349221               0.137698   \n",
       "1               0.273633               2.410122              -0.228039   \n",
       "2              -0.555592               2.027820               0.297856   \n",
       "3               4.394457              -2.323870               0.685729   \n",
       "4              -0.154291               2.590255               0.319270   \n",
       "\n",
       "   principal component 4  principal component 5  principal component 6  \\\n",
       "0              -0.548748              -0.955775               0.103595   \n",
       "1              -0.936526              -1.857204               0.597322   \n",
       "2               0.100243              -0.109473               0.025601   \n",
       "3              -0.083979               0.887427              -0.113303   \n",
       "4              -0.263483              -0.000289              -0.923121   \n",
       "\n",
       "   principal component 7  principal component 8  \n",
       "0              -0.365214               0.441886  \n",
       "1              -0.304870               0.866645  \n",
       "2               0.448118               0.104363  \n",
       "3               0.804242              -1.081320  \n",
       "4              -1.659641               0.089752  "
      ]
     },
     "execution_count": 215,
     "metadata": {},
     "output_type": "execute_result"
    }
   ],
   "source": [
    "principal_Df.head()"
   ]
  },
  {
   "cell_type": "code",
   "execution_count": 216,
   "metadata": {},
   "outputs": [],
   "source": [
    "x_train,x_test,y_train,y_test = train_test_split(principal_Df,y, test_size= 0.25)"
   ]
  },
  {
   "cell_type": "code",
   "execution_count": 217,
   "metadata": {},
   "outputs": [
    {
     "name": "stdout",
     "output_type": "stream",
     "text": [
      "     principal component 1  principal component 2  principal component 3  \\\n",
      "353               3.369976               3.528970              -1.011674   \n",
      "51                2.527578               1.105168              -0.552512   \n",
      "236              -0.560092               0.742719               0.625279   \n",
      "73                0.114951              -1.655308               0.560055   \n",
      "338               1.506977               0.804822               0.129681   \n",
      "..                     ...                    ...                    ...   \n",
      "17                9.609122              -1.695094              -0.767933   \n",
      "64                0.863953              -2.133549               0.634837   \n",
      "26               -0.725014               2.217106               1.504586   \n",
      "424              -5.323140              -1.329000              -3.176158   \n",
      "479               0.867263               1.678909              -1.873720   \n",
      "\n",
      "     principal component 4  principal component 5  principal component 6  \\\n",
      "353               0.567057              -1.625583               0.459249   \n",
      "51               -0.112991               0.242087              -0.390449   \n",
      "236              -0.201302              -0.098954              -0.746107   \n",
      "73                1.832986              -0.444558              -0.486143   \n",
      "338              -0.713292              -1.365988              -0.652468   \n",
      "..                     ...                    ...                    ...   \n",
      "17                0.182593               0.881503              -0.554860   \n",
      "64                0.677826              -0.371613              -0.361268   \n",
      "26               -0.097896              -0.443146              -0.040226   \n",
      "424              -0.086191              -0.158795               0.766186   \n",
      "479              -1.136671              -0.334213              -0.433783   \n",
      "\n",
      "     principal component 7  principal component 8  \n",
      "353               0.633007               0.276977  \n",
      "51                0.216214               0.633972  \n",
      "236              -0.391791               0.355476  \n",
      "73                0.025764              -0.426389  \n",
      "338              -0.249750               0.460352  \n",
      "..                     ...                    ...  \n",
      "17                1.426456              -2.136029  \n",
      "64               -0.497319               0.587822  \n",
      "26               -0.311887               0.732737  \n",
      "424               0.851111              -0.344604  \n",
      "479              -1.495636               0.382860  \n",
      "\n",
      "[360 rows x 8 columns]\n"
     ]
    }
   ],
   "source": [
    "print(x_train)"
   ]
  },
  {
   "cell_type": "code",
   "execution_count": 218,
   "metadata": {},
   "outputs": [
    {
     "name": "stdout",
     "output_type": "stream",
     "text": [
      "     principal component 1  principal component 2  principal component 3  \\\n",
      "87                3.107398              -1.715083               0.988911   \n",
      "194              -2.234113               1.391585               0.703808   \n",
      "271              -3.158396               4.478798               8.311508   \n",
      "226              -5.336588              -0.444718              -3.101539   \n",
      "130               0.242927              -0.746094               1.256406   \n",
      "..                     ...                    ...                    ...   \n",
      "306               1.199346              -1.958098               2.046588   \n",
      "284              -1.747186              -0.754529               1.170220   \n",
      "341              -1.405878              -0.459096               0.200327   \n",
      "206              -3.733657               0.340061               1.311622   \n",
      "302              -1.370038              -0.591011               0.991581   \n",
      "\n",
      "     principal component 4  principal component 5  principal component 6  \\\n",
      "87                0.166584              -0.139317               1.147535   \n",
      "194               1.365756               0.620702               0.555417   \n",
      "271              -2.031747               2.269414               0.185054   \n",
      "226               2.701026               1.371998               3.714594   \n",
      "130               0.725623              -0.830851               0.862017   \n",
      "..                     ...                    ...                    ...   \n",
      "306              -0.164836              -1.059839              -0.343875   \n",
      "284               0.656394              -0.386701              -0.033571   \n",
      "341               0.833997              -0.593672              -0.678443   \n",
      "206              -1.321439              -0.012176              -0.950705   \n",
      "302               2.051757               0.861674              -0.394332   \n",
      "\n",
      "     principal component 7  principal component 8  \n",
      "87               -0.745726               1.661837  \n",
      "194               0.395894               0.088573  \n",
      "271               0.263558              -0.592719  \n",
      "226               1.055582              -0.583455  \n",
      "130              -0.553197              -0.158688  \n",
      "..                     ...                    ...  \n",
      "306              -0.601981              -0.309438  \n",
      "284               0.133444              -0.178956  \n",
      "341              -0.025465               0.028680  \n",
      "206              -0.145182              -0.127461  \n",
      "302               1.178954               1.628783  \n",
      "\n",
      "[121 rows x 8 columns]\n"
     ]
    }
   ],
   "source": [
    "print(x_test)"
   ]
  },
  {
   "cell_type": "code",
   "execution_count": 219,
   "metadata": {},
   "outputs": [
    {
     "data": {
      "text/plain": [
       "KNeighborsRegressor(algorithm='auto', leaf_size=30, metric='minkowski',\n",
       "                    metric_params=None, n_jobs=None, n_neighbors=2, p=2,\n",
       "                    weights='uniform')"
      ]
     },
     "execution_count": 219,
     "metadata": {},
     "output_type": "execute_result"
    }
   ],
   "source": [
    "from sklearn.neighbors import KNeighborsRegressor\n",
    "\n",
    "neigh = KNeighborsRegressor(n_neighbors=2)\n",
    "\n",
    "neigh.fit(x_train, y_train)  #fit the model\n",
    "#y_pred = model.predict(x_test) #make prediction on test set"
   ]
  },
  {
   "cell_type": "code",
   "execution_count": 220,
   "metadata": {},
   "outputs": [],
   "source": [
    "y_pred = neigh.predict(x_test) #make prediction on test set"
   ]
  },
  {
   "cell_type": "code",
   "execution_count": 221,
   "metadata": {},
   "outputs": [
    {
     "data": {
      "text/plain": [
       "0.9865743875385918"
      ]
     },
     "execution_count": 221,
     "metadata": {},
     "output_type": "execute_result"
    }
   ],
   "source": [
    "neigh.score(x_train,y_train)"
   ]
  },
  {
   "cell_type": "code",
   "execution_count": 222,
   "metadata": {},
   "outputs": [],
   "source": [
    "# Compute the mean squared error of our predictions.\n",
    "from sklearn.metrics import mean_squared_error \n",
    "from math import sqrt\n",
    "error = sqrt(mean_squared_error(y_test,y_pred)) #calculate rmse"
   ]
  },
  {
   "cell_type": "code",
   "execution_count": 223,
   "metadata": {},
   "outputs": [
    {
     "data": {
      "text/plain": [
       "87.14559869494745"
      ]
     },
     "execution_count": 223,
     "metadata": {},
     "output_type": "execute_result"
    }
   ],
   "source": [
    "error"
   ]
  },
  {
   "cell_type": "code",
   "execution_count": 224,
   "metadata": {},
   "outputs": [
    {
     "name": "stdout",
     "output_type": "stream",
     "text": [
      "RMSE value for k=  1 is: 108.04234706970493\n",
      "RMSE value for k=  2 is: 87.14559869494745\n",
      "RMSE value for k=  3 is: 79.07652255083542\n",
      "RMSE value for k=  4 is: 74.40855292191809\n",
      "RMSE value for k=  5 is: 72.86579308326294\n",
      "RMSE value for k=  6 is: 75.56500221153077\n",
      "RMSE value for k=  7 is: 72.36399996179432\n",
      "RMSE value for k=  8 is: 71.8574628263688\n",
      "RMSE value for k=  9 is: 72.25778244426604\n",
      "RMSE value for k=  10 is: 73.37207397688456\n",
      "RMSE value for k=  11 is: 73.66047364800167\n",
      "RMSE value for k=  12 is: 76.5250676142796\n",
      "RMSE value for k=  13 is: 76.524934353313\n",
      "RMSE value for k=  14 is: 75.53722474702596\n",
      "RMSE value for k=  15 is: 77.6001228308363\n",
      "RMSE value for k=  16 is: 77.21078065115215\n",
      "RMSE value for k=  17 is: 77.83000886890729\n",
      "RMSE value for k=  18 is: 77.44513594620616\n",
      "RMSE value for k=  19 is: 78.67804808855183\n",
      "RMSE value for k=  20 is: 79.18647609199293\n"
     ]
    }
   ],
   "source": [
    "rmse_val = [] #to store rmse values for different k\n",
    "for K in range(20):\n",
    "    K = K+1\n",
    "    model = KNeighborsRegressor(n_neighbors = K)\n",
    "\n",
    "    model.fit(x_train, y_train)  #fit the model\n",
    "    pred=model.predict(x_test) #make prediction on test set\n",
    "    error = sqrt(mean_squared_error(y_test,pred)) #calculate rmse\n",
    "    rmse_val.append(error) #store rmse values\n",
    "    print('RMSE value for k= ' , K , 'is:', error)"
   ]
  },
  {
   "cell_type": "markdown",
   "metadata": {},
   "source": [
    "Let's try to increase the accuracy by using hyperparameter tuning."
   ]
  },
  {
   "cell_type": "code",
   "execution_count": 225,
   "metadata": {},
   "outputs": [
    {
     "data": {
      "text/plain": [
       "<matplotlib.axes._subplots.AxesSubplot at 0x1b388ae4488>"
      ]
     },
     "execution_count": 225,
     "metadata": {},
     "output_type": "execute_result"
    },
    {
     "data": {
      "image/png": "[encoded data removed]",
      "text/plain": [
       "<Figure size 432x288 with 1 Axes>"
      ]
     },
     "metadata": {},
     "output_type": "display_data"
    }
   ],
   "source": [
    "#plotting the rmse values against k values\n",
    "curve = pd.DataFrame(rmse_val) #elbow curve \n",
    "curve.plot()"
   ]
  },
  {
   "cell_type": "markdown",
   "metadata": {},
   "source": [
    "For a very low value of k (suppose k=1), the model overfits on the training data, which leads to a high error rate on the validation set. On the other hand, for a high value of k, the model performs poorly on both train and validation set. If you observe closely, the validation error curve reaches a minima at a value of k = 3. This value of k is the optimum value of the model (it will vary for different datasets). This curve is known as an ‘elbow curve‘ (because it has a shape like an elbow) and is usually used to determine the k value."
   ]
  },
  {
   "cell_type": "markdown",
   "metadata": {},
   "source": [
    "<b> Using Grid Search CV</b>"
   ]
  },
  {
   "cell_type": "code",
   "execution_count": 226,
   "metadata": {},
   "outputs": [
    {
     "data": {
      "text/plain": [
       "{'algorithm': 'ball_tree', 'leaf_size': 18, 'n_neighbors': 5}"
      ]
     },
     "execution_count": 226,
     "metadata": {},
     "output_type": "execute_result"
    }
   ],
   "source": [
    "from sklearn.model_selection import GridSearchCV\n",
    "params = { 'algorithm' : ['ball_tree', 'kd_tree', 'brute'],\n",
    "               'leaf_size' : [18,20,25,27,30,32,34],\n",
    "               'n_neighbors' : [3,5,7,9,10,11,12,13]\n",
    "              }\n",
    "\n",
    "knn = KNeighborsRegressor()\n",
    "\n",
    "model = GridSearchCV(knn, params, cv=5)\n",
    "model.fit(x_train,y_train)\n",
    "model.best_params_"
   ]
  },
  {
   "cell_type": "code",
   "execution_count": 227,
   "metadata": {},
   "outputs": [
    {
     "data": {
      "text/plain": [
       "0.9819176343822359"
      ]
     },
     "execution_count": 227,
     "metadata": {},
     "output_type": "execute_result"
    }
   ],
   "source": [
    "neigh = KNeighborsRegressor(algorithm='ball_tree', leaf_size=18, n_neighbors=3)\n",
    "\n",
    "neigh.fit(x_train, y_train)\n",
    "\n",
    "y_pred = neigh.predict(x_test) #make prediction on test set\n",
    "\n",
    "neigh.score(x_train,y_train)"
   ]
  },
  {
   "cell_type": "code",
   "execution_count": 228,
   "metadata": {},
   "outputs": [],
   "source": [
    "error = sqrt(mean_squared_error(y_test,y_pred))"
   ]
  },
  {
   "cell_type": "code",
   "execution_count": 229,
   "metadata": {},
   "outputs": [
    {
     "data": {
      "text/plain": [
       "79.07652255083542"
      ]
     },
     "execution_count": 229,
     "metadata": {},
     "output_type": "execute_result"
    }
   ],
   "source": [
    "error"
   ]
  },
  {
   "cell_type": "markdown",
   "metadata": {},
   "source": [
    "Hence, By using Grid Search parameter we can see that the value of Error has been decreased considerably at \n",
    "{'algorithm': 'ball_tree', 'leaf_size': 18, 'n_neighbors': 5}"
   ]
  }
 ],
 "metadata": {
  "kernelspec": {
   "display_name": "Python 3",
   "language": "python",
   "name": "python3"
  },
  "language_info": {
   "codemirror_mode": {
    "name": "ipython",
    "version": 3
   },
   "file_extension": ".py",
   "mimetype": "text/x-python",
   "name": "python",
   "nbconvert_exporter": "python",
   "pygments_lexer": "ipython3",
   "version": "3.7.4"
  }
 },
 "nbformat": 4,
 "nbformat_minor": 2
}
